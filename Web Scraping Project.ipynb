{
 "cells": [
  {
   "cell_type": "markdown",
   "id": "b731a502",
   "metadata": {},
   "source": [
    "<center>\n",
    "    \n",
    "### Global Population Analysis and Visualization (2024) - Data from Worldometers\n",
    "    \n",
    "</center>"
   ]
  },
  {
   "cell_type": "markdown",
   "id": "6a78903b",
   "metadata": {},
   "source": [
    "#### Objectives\n",
    "\n",
    "The objective of this project is to analyze and visualize global population data for 2024, with a specific focus on:\n",
    "\n",
    "- Identifying countries with the highest and lowest population growth rates.\n",
    "- Understanding the patterns of population increase and decrease across different regions.\n",
    "- Analyzing the factors driving population growth in various countries and their potential implications.\n",
    "\n",
    "This analysis aims to provide insights into global demographic trends and support informed decision-making for future planning."
   ]
  },
  {
   "cell_type": "code",
   "execution_count": 78,
   "id": "dfce9ee4",
   "metadata": {
    "scrolled": true
   },
   "outputs": [],
   "source": [
    "# Import relevant packages\n",
    "import requests\n",
    "import pandas as pd\n",
    "from bs4 import BeautifulSoup\n",
    "import matplotlib.pyplot as plt\n",
    "import seaborn as sns"
   ]
  },
  {
   "cell_type": "markdown",
   "id": "24a447af",
   "metadata": {},
   "source": [
    "<center>\n",
    "    \n",
    "#### Web scraping\n",
    "\n",
    "</center>"
   ]
  },
  {
   "cell_type": "code",
   "execution_count": 79,
   "id": "d41ec439",
   "metadata": {},
   "outputs": [],
   "source": [
    "# URL with a table of global population by country\n",
    "url = 'https://www.worldometers.info/world-population/population-by-country/'\n",
    "\n",
    "# Send a GET request to fetch the raw HTML content\n",
    "response = requests.get(url)\n",
    "soup = BeautifulSoup(response.text, 'html.parser')"
   ]
  },
  {
   "cell_type": "code",
   "execution_count": 80,
   "id": "58d600d7",
   "metadata": {},
   "outputs": [],
   "source": [
    "# Find the table that contains the data (in this case, the first table)\n",
    "table = soup.find('table', {'class': 'table table-striped table-bordered'})"
   ]
  },
  {
   "cell_type": "code",
   "execution_count": 81,
   "id": "68ef1136",
   "metadata": {},
   "outputs": [],
   "source": [
    "# Extract the headers from the table\n",
    "headers = [header.text.strip() for header in table.find_all('th')]"
   ]
  },
  {
   "cell_type": "code",
   "execution_count": 82,
   "id": "04c7a33d",
   "metadata": {},
   "outputs": [],
   "source": [
    "# Extract the rows of the table\n",
    "rows = []\n",
    "for row in table.find_all('tr')[1:]:  # Skipping the header row\n",
    "    cols = row.find_all('td')\n",
    "    row_data = [col.text.strip() for col in cols]\n",
    "    rows.append(row_data)"
   ]
  },
  {
   "cell_type": "code",
   "execution_count": 83,
   "id": "f190ab0e",
   "metadata": {},
   "outputs": [],
   "source": [
    "# Convert to a DataFrame\n",
    "df = pd.DataFrame(rows, columns=headers)"
   ]
  },
  {
   "cell_type": "markdown",
   "id": "845fd4f4",
   "metadata": {},
   "source": [
    "<center>\n",
    "\n",
    "#### Exploratory Analysis\n",
    "\n",
    "</center>"
   ]
  },
  {
   "cell_type": "code",
   "execution_count": 110,
   "id": "15886485",
   "metadata": {
    "scrolled": true
   },
   "outputs": [
    {
     "data": {
      "text/html": [
       "<div>\n",
       "<style scoped>\n",
       "    .dataframe tbody tr th:only-of-type {\n",
       "        vertical-align: middle;\n",
       "    }\n",
       "\n",
       "    .dataframe tbody tr th {\n",
       "        vertical-align: top;\n",
       "    }\n",
       "\n",
       "    .dataframe thead th {\n",
       "        text-align: right;\n",
       "    }\n",
       "</style>\n",
       "<table border=\"1\" class=\"dataframe\">\n",
       "  <thead>\n",
       "    <tr style=\"text-align: right;\">\n",
       "      <th></th>\n",
       "      <th>#</th>\n",
       "      <th>Country (or dependency)</th>\n",
       "      <th>Population (2024)</th>\n",
       "      <th>Yearly Change</th>\n",
       "      <th>Net Change</th>\n",
       "      <th>Density (P/Km²)</th>\n",
       "      <th>Land Area (Km²)</th>\n",
       "      <th>Migrants (net)</th>\n",
       "      <th>Fert. Rate</th>\n",
       "      <th>Med. Age</th>\n",
       "      <th>Urban Pop %</th>\n",
       "      <th>World Share</th>\n",
       "    </tr>\n",
       "  </thead>\n",
       "  <tbody>\n",
       "    <tr>\n",
       "      <th>0</th>\n",
       "      <td>1</td>\n",
       "      <td>India</td>\n",
       "      <td>1450935791</td>\n",
       "      <td>0.89</td>\n",
       "      <td>12,866,195</td>\n",
       "      <td>488</td>\n",
       "      <td>2,973,190</td>\n",
       "      <td>-630,830</td>\n",
       "      <td>2.0</td>\n",
       "      <td>28</td>\n",
       "      <td>37 %</td>\n",
       "      <td>17.78 %</td>\n",
       "    </tr>\n",
       "    <tr>\n",
       "      <th>1</th>\n",
       "      <td>2</td>\n",
       "      <td>China</td>\n",
       "      <td>1419321278</td>\n",
       "      <td>-0.23</td>\n",
       "      <td>-3,263,655</td>\n",
       "      <td>151</td>\n",
       "      <td>9,388,211</td>\n",
       "      <td>-318,992</td>\n",
       "      <td>1.0</td>\n",
       "      <td>40</td>\n",
       "      <td>66 %</td>\n",
       "      <td>17.39 %</td>\n",
       "    </tr>\n",
       "    <tr>\n",
       "      <th>2</th>\n",
       "      <td>3</td>\n",
       "      <td>United States</td>\n",
       "      <td>345426571</td>\n",
       "      <td>0.57</td>\n",
       "      <td>1,949,236</td>\n",
       "      <td>38</td>\n",
       "      <td>9,147,420</td>\n",
       "      <td>1,286,132</td>\n",
       "      <td>1.6</td>\n",
       "      <td>38</td>\n",
       "      <td>82 %</td>\n",
       "      <td>4.23 %</td>\n",
       "    </tr>\n",
       "    <tr>\n",
       "      <th>3</th>\n",
       "      <td>4</td>\n",
       "      <td>Indonesia</td>\n",
       "      <td>283487931</td>\n",
       "      <td>0.82</td>\n",
       "      <td>2,297,864</td>\n",
       "      <td>156</td>\n",
       "      <td>1,811,570</td>\n",
       "      <td>-38,469</td>\n",
       "      <td>2.1</td>\n",
       "      <td>30</td>\n",
       "      <td>59 %</td>\n",
       "      <td>3.47 %</td>\n",
       "    </tr>\n",
       "    <tr>\n",
       "      <th>4</th>\n",
       "      <td>5</td>\n",
       "      <td>Pakistan</td>\n",
       "      <td>251269164</td>\n",
       "      <td>1.52</td>\n",
       "      <td>3,764,669</td>\n",
       "      <td>326</td>\n",
       "      <td>770,880</td>\n",
       "      <td>-1,401,173</td>\n",
       "      <td>3.5</td>\n",
       "      <td>20</td>\n",
       "      <td>34 %</td>\n",
       "      <td>3.08 %</td>\n",
       "    </tr>\n",
       "  </tbody>\n",
       "</table>\n",
       "</div>"
      ],
      "text/plain": [
       "   # Country (or dependency)  Population (2024)  Yearly Change  Net Change  \\\n",
       "0  1                   India         1450935791           0.89  12,866,195   \n",
       "1  2                   China         1419321278          -0.23  -3,263,655   \n",
       "2  3           United States          345426571           0.57   1,949,236   \n",
       "3  4               Indonesia          283487931           0.82   2,297,864   \n",
       "4  5                Pakistan          251269164           1.52   3,764,669   \n",
       "\n",
       "  Density (P/Km²) Land Area (Km²) Migrants (net) Fert. Rate Med. Age  \\\n",
       "0             488       2,973,190       -630,830        2.0       28   \n",
       "1             151       9,388,211       -318,992        1.0       40   \n",
       "2              38       9,147,420      1,286,132        1.6       38   \n",
       "3             156       1,811,570        -38,469        2.1       30   \n",
       "4             326         770,880     -1,401,173        3.5       20   \n",
       "\n",
       "  Urban Pop % World Share  \n",
       "0        37 %     17.78 %  \n",
       "1        66 %     17.39 %  \n",
       "2        82 %      4.23 %  \n",
       "3        59 %      3.47 %  \n",
       "4        34 %      3.08 %  "
      ]
     },
     "execution_count": 110,
     "metadata": {},
     "output_type": "execute_result"
    }
   ],
   "source": [
    "# Retrieve the first 5 columns\n",
    "df.head()"
   ]
  },
  {
   "cell_type": "code",
   "execution_count": 109,
   "id": "bc8c5e34",
   "metadata": {},
   "outputs": [
    {
     "data": {
      "text/html": [
       "<div>\n",
       "<style scoped>\n",
       "    .dataframe tbody tr th:only-of-type {\n",
       "        vertical-align: middle;\n",
       "    }\n",
       "\n",
       "    .dataframe tbody tr th {\n",
       "        vertical-align: top;\n",
       "    }\n",
       "\n",
       "    .dataframe thead th {\n",
       "        text-align: right;\n",
       "    }\n",
       "</style>\n",
       "<table border=\"1\" class=\"dataframe\">\n",
       "  <thead>\n",
       "    <tr style=\"text-align: right;\">\n",
       "      <th></th>\n",
       "      <th>#</th>\n",
       "      <th>Country (or dependency)</th>\n",
       "      <th>Population (2024)</th>\n",
       "      <th>Yearly Change</th>\n",
       "      <th>Net Change</th>\n",
       "      <th>Density (P/Km²)</th>\n",
       "      <th>Land Area (Km²)</th>\n",
       "      <th>Migrants (net)</th>\n",
       "      <th>Fert. Rate</th>\n",
       "      <th>Med. Age</th>\n",
       "      <th>Urban Pop %</th>\n",
       "      <th>World Share</th>\n",
       "    </tr>\n",
       "  </thead>\n",
       "  <tbody>\n",
       "    <tr>\n",
       "      <th>229</th>\n",
       "      <td>230</td>\n",
       "      <td>Montserrat</td>\n",
       "      <td>4389</td>\n",
       "      <td>-0.70</td>\n",
       "      <td>-31</td>\n",
       "      <td>44</td>\n",
       "      <td>100</td>\n",
       "      <td>-7</td>\n",
       "      <td>1.4</td>\n",
       "      <td>42</td>\n",
       "      <td>11 %</td>\n",
       "      <td>0.00 %</td>\n",
       "    </tr>\n",
       "    <tr>\n",
       "      <th>230</th>\n",
       "      <td>231</td>\n",
       "      <td>Falkland Islands</td>\n",
       "      <td>3470</td>\n",
       "      <td>-0.20</td>\n",
       "      <td>-7</td>\n",
       "      <td>0</td>\n",
       "      <td>12,170</td>\n",
       "      <td>-13</td>\n",
       "      <td>1.7</td>\n",
       "      <td>42</td>\n",
       "      <td>68 %</td>\n",
       "      <td>0.00 %</td>\n",
       "    </tr>\n",
       "    <tr>\n",
       "      <th>231</th>\n",
       "      <td>232</td>\n",
       "      <td>Tokelau</td>\n",
       "      <td>2506</td>\n",
       "      <td>4.55</td>\n",
       "      <td>109</td>\n",
       "      <td>251</td>\n",
       "      <td>10</td>\n",
       "      <td>72</td>\n",
       "      <td>2.6</td>\n",
       "      <td>27</td>\n",
       "      <td>0 %</td>\n",
       "      <td>0.00 %</td>\n",
       "    </tr>\n",
       "    <tr>\n",
       "      <th>232</th>\n",
       "      <td>233</td>\n",
       "      <td>Niue</td>\n",
       "      <td>1819</td>\n",
       "      <td>0.11</td>\n",
       "      <td>2</td>\n",
       "      <td>7</td>\n",
       "      <td>260</td>\n",
       "      <td>10</td>\n",
       "      <td>2.5</td>\n",
       "      <td>36</td>\n",
       "      <td>44 %</td>\n",
       "      <td>0.00 %</td>\n",
       "    </tr>\n",
       "    <tr>\n",
       "      <th>233</th>\n",
       "      <td>234</td>\n",
       "      <td>Holy See</td>\n",
       "      <td>496</td>\n",
       "      <td>0.00</td>\n",
       "      <td>0</td>\n",
       "      <td>1,240</td>\n",
       "      <td>0</td>\n",
       "      <td>18</td>\n",
       "      <td>1.0</td>\n",
       "      <td>59</td>\n",
       "      <td>N.A.</td>\n",
       "      <td>0.00 %</td>\n",
       "    </tr>\n",
       "  </tbody>\n",
       "</table>\n",
       "</div>"
      ],
      "text/plain": [
       "       # Country (or dependency)  Population (2024)  Yearly Change Net Change  \\\n",
       "229  230              Montserrat               4389          -0.70        -31   \n",
       "230  231        Falkland Islands               3470          -0.20         -7   \n",
       "231  232                 Tokelau               2506           4.55        109   \n",
       "232  233                    Niue               1819           0.11          2   \n",
       "233  234                Holy See                496           0.00          0   \n",
       "\n",
       "    Density (P/Km²) Land Area (Km²) Migrants (net) Fert. Rate Med. Age  \\\n",
       "229              44             100             -7        1.4       42   \n",
       "230               0          12,170            -13        1.7       42   \n",
       "231             251              10             72        2.6       27   \n",
       "232               7             260             10        2.5       36   \n",
       "233           1,240               0             18        1.0       59   \n",
       "\n",
       "    Urban Pop % World Share  \n",
       "229        11 %      0.00 %  \n",
       "230        68 %      0.00 %  \n",
       "231         0 %      0.00 %  \n",
       "232        44 %      0.00 %  \n",
       "233        N.A.      0.00 %  "
      ]
     },
     "execution_count": 109,
     "metadata": {},
     "output_type": "execute_result"
    }
   ],
   "source": [
    "# Retrieve the last 5 columns\n",
    "df.tail()"
   ]
  },
  {
   "cell_type": "code",
   "execution_count": 85,
   "id": "7ec9a867",
   "metadata": {
    "scrolled": true
   },
   "outputs": [
    {
     "name": "stdout",
     "output_type": "stream",
     "text": [
      "DataFrame Columns:  Index(['#', 'Country (or dependency)', 'Population (2024)', 'Yearly Change',\n",
      "       'Net Change', 'Density (P/Km²)', 'Land Area (Km²)', 'Migrants (net)',\n",
      "       'Fert. Rate', 'Med. Age', 'Urban Pop %', 'World Share'],\n",
      "      dtype='object')\n"
     ]
    }
   ],
   "source": [
    "# Inspect the DataFrame columns\n",
    "print(\"DataFrame Columns: \", df.columns)"
   ]
  },
  {
   "cell_type": "code",
   "execution_count": 88,
   "id": "1d4b6363",
   "metadata": {
    "scrolled": true
   },
   "outputs": [
    {
     "name": "stdout",
     "output_type": "stream",
     "text": [
      "<class 'pandas.core.frame.DataFrame'>\n",
      "RangeIndex: 234 entries, 0 to 233\n",
      "Data columns (total 12 columns):\n",
      " #   Column                   Non-Null Count  Dtype \n",
      "---  ------                   --------------  ----- \n",
      " 0   #                        234 non-null    object\n",
      " 1   Country (or dependency)  234 non-null    object\n",
      " 2   Population (2024)        234 non-null    object\n",
      " 3   Yearly Change            234 non-null    object\n",
      " 4   Net Change               234 non-null    object\n",
      " 5   Density (P/Km²)          234 non-null    object\n",
      " 6   Land Area (Km²)          234 non-null    object\n",
      " 7   Migrants (net)           234 non-null    object\n",
      " 8   Fert. Rate               234 non-null    object\n",
      " 9   Med. Age                 234 non-null    object\n",
      " 10  Urban Pop %              234 non-null    object\n",
      " 11  World Share              234 non-null    object\n",
      "dtypes: object(12)\n",
      "memory usage: 22.1+ KB\n",
      "None\n"
     ]
    }
   ],
   "source": [
    "# Retrieve the info of the data\n",
    "print(df.info())"
   ]
  },
  {
   "cell_type": "code",
   "execution_count": 92,
   "id": "1eda5046",
   "metadata": {},
   "outputs": [
    {
     "data": {
      "text/plain": [
       "#                          0\n",
       "Country (or dependency)    0\n",
       "Population (2024)          0\n",
       "Yearly Change              0\n",
       "Net Change                 0\n",
       "Density (P/Km²)            0\n",
       "Land Area (Km²)            0\n",
       "Migrants (net)             0\n",
       "Fert. Rate                 0\n",
       "Med. Age                   0\n",
       "Urban Pop %                0\n",
       "World Share                0\n",
       "dtype: int64"
      ]
     },
     "execution_count": 92,
     "metadata": {},
     "output_type": "execute_result"
    }
   ],
   "source": [
    "# Check for missing values\n",
    "df.isna().sum()"
   ]
  },
  {
   "cell_type": "markdown",
   "id": "dab3af9c",
   "metadata": {},
   "source": [
    "- The dataset has no missing values."
   ]
  },
  {
   "cell_type": "code",
   "execution_count": 90,
   "id": "10fed5da",
   "metadata": {
    "scrolled": true
   },
   "outputs": [
    {
     "data": {
      "text/html": [
       "<div>\n",
       "<style scoped>\n",
       "    .dataframe tbody tr th:only-of-type {\n",
       "        vertical-align: middle;\n",
       "    }\n",
       "\n",
       "    .dataframe tbody tr th {\n",
       "        vertical-align: top;\n",
       "    }\n",
       "\n",
       "    .dataframe thead th {\n",
       "        text-align: right;\n",
       "    }\n",
       "</style>\n",
       "<table border=\"1\" class=\"dataframe\">\n",
       "  <thead>\n",
       "    <tr style=\"text-align: right;\">\n",
       "      <th></th>\n",
       "      <th>#</th>\n",
       "      <th>Country (or dependency)</th>\n",
       "      <th>Population (2024)</th>\n",
       "      <th>Yearly Change</th>\n",
       "      <th>Net Change</th>\n",
       "      <th>Density (P/Km²)</th>\n",
       "      <th>Land Area (Km²)</th>\n",
       "      <th>Migrants (net)</th>\n",
       "      <th>Fert. Rate</th>\n",
       "      <th>Med. Age</th>\n",
       "      <th>Urban Pop %</th>\n",
       "      <th>World Share</th>\n",
       "    </tr>\n",
       "  </thead>\n",
       "  <tbody>\n",
       "    <tr>\n",
       "      <th>count</th>\n",
       "      <td>234</td>\n",
       "      <td>234</td>\n",
       "      <td>234</td>\n",
       "      <td>234</td>\n",
       "      <td>234</td>\n",
       "      <td>234</td>\n",
       "      <td>234</td>\n",
       "      <td>234</td>\n",
       "      <td>234</td>\n",
       "      <td>234</td>\n",
       "      <td>234</td>\n",
       "      <td>234</td>\n",
       "    </tr>\n",
       "    <tr>\n",
       "      <th>unique</th>\n",
       "      <td>234</td>\n",
       "      <td>234</td>\n",
       "      <td>234</td>\n",
       "      <td>182</td>\n",
       "      <td>234</td>\n",
       "      <td>173</td>\n",
       "      <td>225</td>\n",
       "      <td>230</td>\n",
       "      <td>45</td>\n",
       "      <td>39</td>\n",
       "      <td>84</td>\n",
       "      <td>75</td>\n",
       "    </tr>\n",
       "    <tr>\n",
       "      <th>top</th>\n",
       "      <td>1</td>\n",
       "      <td>India</td>\n",
       "      <td>1,450,935,791</td>\n",
       "      <td>0.00 %</td>\n",
       "      <td>12,866,195</td>\n",
       "      <td>4</td>\n",
       "      <td>460</td>\n",
       "      <td>-7</td>\n",
       "      <td>1.5</td>\n",
       "      <td>18</td>\n",
       "      <td>N.A.</td>\n",
       "      <td>0.00 %</td>\n",
       "    </tr>\n",
       "    <tr>\n",
       "      <th>freq</th>\n",
       "      <td>1</td>\n",
       "      <td>1</td>\n",
       "      <td>1</td>\n",
       "      <td>4</td>\n",
       "      <td>1</td>\n",
       "      <td>8</td>\n",
       "      <td>3</td>\n",
       "      <td>3</td>\n",
       "      <td>24</td>\n",
       "      <td>13</td>\n",
       "      <td>18</td>\n",
       "      <td>57</td>\n",
       "    </tr>\n",
       "  </tbody>\n",
       "</table>\n",
       "</div>"
      ],
      "text/plain": [
       "          # Country (or dependency) Population (2024) Yearly Change  \\\n",
       "count   234                     234               234           234   \n",
       "unique  234                     234               234           182   \n",
       "top       1                   India     1,450,935,791        0.00 %   \n",
       "freq      1                       1                 1             4   \n",
       "\n",
       "        Net Change Density (P/Km²) Land Area (Km²) Migrants (net) Fert. Rate  \\\n",
       "count          234             234             234            234        234   \n",
       "unique         234             173             225            230         45   \n",
       "top     12,866,195               4             460             -7        1.5   \n",
       "freq             1               8               3              3         24   \n",
       "\n",
       "       Med. Age Urban Pop % World Share  \n",
       "count       234         234         234  \n",
       "unique       39          84          75  \n",
       "top          18        N.A.      0.00 %  \n",
       "freq         13          18          57  "
      ]
     },
     "execution_count": 90,
     "metadata": {},
     "output_type": "execute_result"
    }
   ],
   "source": [
    "# Check for a summary of statistics\n",
    "df.describe()"
   ]
  },
  {
   "cell_type": "code",
   "execution_count": 111,
   "id": "01d6bebe",
   "metadata": {},
   "outputs": [
    {
     "data": {
      "text/plain": [
       "(234, 12)"
      ]
     },
     "execution_count": 111,
     "metadata": {},
     "output_type": "execute_result"
    }
   ],
   "source": [
    "df.shape"
   ]
  },
  {
   "cell_type": "markdown",
   "id": "8698dd98",
   "metadata": {},
   "source": [
    "#### Preliminary Exploration Findings\n",
    "\n",
    "- Dataset Source: Worldometers (Global population data for 2024).\n",
    "- The dataset has 234 rows and 12 columns\n",
    "- No missing values are present in the dataset\n",
    "- Most numerical columns, such as 'Population (2024)', 'Density (P/Km²)', and 'Yearly Change', are in string format, but they need to be converted to appropriate data types (e.g., integers or floats) for analysis.\n",
    "- Categorical data, like Country (or dependency), is already in string format."
   ]
  },
  {
   "cell_type": "markdown",
   "id": "290836bf",
   "metadata": {},
   "source": [
    "<center>\n",
    "\n",
    "#### Data Cleaning\n",
    "\n",
    "</center>"
   ]
  },
  {
   "cell_type": "code",
   "execution_count": 93,
   "id": "0d78012c",
   "metadata": {},
   "outputs": [],
   "source": [
    "#Clean up the data (remove commas and convert population to integer)\n",
    "df['Population (2024)'] = df['Population (2024)'].replace({',': ''}, regex=True).astype(int)"
   ]
  },
  {
   "cell_type": "code",
   "execution_count": 95,
   "id": "5f39a8e5",
   "metadata": {},
   "outputs": [],
   "source": [
    "# Modify 'Yearly Change' column to float data type\n",
    "df['Yearly Change'] = df['Yearly Change'].str.replace('%', '').astype(float)"
   ]
  },
  {
   "cell_type": "markdown",
   "id": "bf73e5a3",
   "metadata": {},
   "source": [
    "<center>\n",
    "\n",
    "#### Further Visualization\n",
    "\n",
    "</center>"
   ]
  },
  {
   "cell_type": "code",
   "execution_count": 98,
   "id": "26e1d68a",
   "metadata": {},
   "outputs": [
    {
     "data": {
      "image/png": "[encoded data removed]",
      "text/plain": [
       "<Figure size 700x300 with 1 Axes>"
      ]
     },
     "metadata": {},
     "output_type": "display_data"
    }
   ],
   "source": [
    "# Histogram of population distribution\n",
    "plt.figure(figsize=(7,3))\n",
    "sns.histplot(df['Population (2024)'], bins=20, kde=True)\n",
    "plt.title('Global Population Distribution (2024)')\n",
    "plt.xlabel('Population')\n",
    "plt.ylabel('Frequency')\n",
    "plt.show()"
   ]
  },
  {
   "cell_type": "code",
   "execution_count": 102,
   "id": "02d007b6",
   "metadata": {},
   "outputs": [
    {
     "data": {
      "text/html": [
       "<div>\n",
       "<style scoped>\n",
       "    .dataframe tbody tr th:only-of-type {\n",
       "        vertical-align: middle;\n",
       "    }\n",
       "\n",
       "    .dataframe tbody tr th {\n",
       "        vertical-align: top;\n",
       "    }\n",
       "\n",
       "    .dataframe thead th {\n",
       "        text-align: right;\n",
       "    }\n",
       "</style>\n",
       "<table border=\"1\" class=\"dataframe\">\n",
       "  <thead>\n",
       "    <tr style=\"text-align: right;\">\n",
       "      <th></th>\n",
       "      <th>Country (or dependency)</th>\n",
       "      <th>Population (2024)</th>\n",
       "    </tr>\n",
       "  </thead>\n",
       "  <tbody>\n",
       "    <tr>\n",
       "      <th>0</th>\n",
       "      <td>India</td>\n",
       "      <td>1450935791</td>\n",
       "    </tr>\n",
       "    <tr>\n",
       "      <th>1</th>\n",
       "      <td>China</td>\n",
       "      <td>1419321278</td>\n",
       "    </tr>\n",
       "    <tr>\n",
       "      <th>2</th>\n",
       "      <td>United States</td>\n",
       "      <td>345426571</td>\n",
       "    </tr>\n",
       "    <tr>\n",
       "      <th>3</th>\n",
       "      <td>Indonesia</td>\n",
       "      <td>283487931</td>\n",
       "    </tr>\n",
       "    <tr>\n",
       "      <th>4</th>\n",
       "      <td>Pakistan</td>\n",
       "      <td>251269164</td>\n",
       "    </tr>\n",
       "    <tr>\n",
       "      <th>5</th>\n",
       "      <td>Nigeria</td>\n",
       "      <td>232679478</td>\n",
       "    </tr>\n",
       "    <tr>\n",
       "      <th>6</th>\n",
       "      <td>Brazil</td>\n",
       "      <td>211998573</td>\n",
       "    </tr>\n",
       "    <tr>\n",
       "      <th>7</th>\n",
       "      <td>Bangladesh</td>\n",
       "      <td>173562364</td>\n",
       "    </tr>\n",
       "    <tr>\n",
       "      <th>8</th>\n",
       "      <td>Russia</td>\n",
       "      <td>144820423</td>\n",
       "    </tr>\n",
       "    <tr>\n",
       "      <th>9</th>\n",
       "      <td>Ethiopia</td>\n",
       "      <td>132059767</td>\n",
       "    </tr>\n",
       "  </tbody>\n",
       "</table>\n",
       "</div>"
      ],
      "text/plain": [
       "  Country (or dependency)  Population (2024)\n",
       "0                   India         1450935791\n",
       "1                   China         1419321278\n",
       "2           United States          345426571\n",
       "3               Indonesia          283487931\n",
       "4                Pakistan          251269164\n",
       "5                 Nigeria          232679478\n",
       "6                  Brazil          211998573\n",
       "7              Bangladesh          173562364\n",
       "8                  Russia          144820423\n",
       "9                Ethiopia          132059767"
      ]
     },
     "execution_count": 102,
     "metadata": {},
     "output_type": "execute_result"
    }
   ],
   "source": [
    "# Top 10 most populous countries\n",
    "top_10_population = df[['Country (or dependency)', 'Population (2024)']\n",
    "                      ].sort_values('Population (2024)', ascending=False).head(10)\n",
    "\n",
    "top_10_population\n"
   ]
  },
  {
   "cell_type": "code",
   "execution_count": 106,
   "id": "afa8db6a",
   "metadata": {},
   "outputs": [
    {
     "data": {
      "image/png": "[encoded data removed]",
      "text/plain": [
       "<Figure size 700x300 with 1 Axes>"
      ]
     },
     "metadata": {},
     "output_type": "display_data"
    }
   ],
   "source": [
    "# Visualize the top 10 most populous countries\n",
    "plt.figure(figsize=(7,3))\n",
    "sns.barplot(x='Population (2024)', y='Country (or dependency)', data=top_10_population, palette='viridis')\n",
    "plt.title('Top 10 Most Populous Countries in 2024')\n",
    "plt.xlabel('Population')\n",
    "plt.ylabel('Country')\n",
    "plt.show()"
   ]
  },
  {
   "cell_type": "code",
   "execution_count": 114,
   "id": "e1c10416",
   "metadata": {
    "scrolled": true
   },
   "outputs": [
    {
     "data": {
      "text/html": [
       "<div>\n",
       "<style scoped>\n",
       "    .dataframe tbody tr th:only-of-type {\n",
       "        vertical-align: middle;\n",
       "    }\n",
       "\n",
       "    .dataframe tbody tr th {\n",
       "        vertical-align: top;\n",
       "    }\n",
       "\n",
       "    .dataframe thead th {\n",
       "        text-align: right;\n",
       "    }\n",
       "</style>\n",
       "<table border=\"1\" class=\"dataframe\">\n",
       "  <thead>\n",
       "    <tr style=\"text-align: right;\">\n",
       "      <th></th>\n",
       "      <th>Country (or dependency)</th>\n",
       "      <th>Yearly Change</th>\n",
       "    </tr>\n",
       "  </thead>\n",
       "  <tbody>\n",
       "    <tr>\n",
       "      <th>64</th>\n",
       "      <td>Chad</td>\n",
       "      <td>5.07</td>\n",
       "    </tr>\n",
       "    <tr>\n",
       "      <th>122</th>\n",
       "      <td>Oman</td>\n",
       "      <td>4.60</td>\n",
       "    </tr>\n",
       "    <tr>\n",
       "      <th>56</th>\n",
       "      <td>Syria</td>\n",
       "      <td>4.57</td>\n",
       "    </tr>\n",
       "    <tr>\n",
       "      <th>231</th>\n",
       "      <td>Tokelau</td>\n",
       "      <td>4.55</td>\n",
       "    </tr>\n",
       "    <tr>\n",
       "      <th>80</th>\n",
       "      <td>South Sudan</td>\n",
       "      <td>4.01</td>\n",
       "    </tr>\n",
       "    <tr>\n",
       "      <th>85</th>\n",
       "      <td>United Arab Emirates</td>\n",
       "      <td>3.62</td>\n",
       "    </tr>\n",
       "    <tr>\n",
       "      <th>67</th>\n",
       "      <td>Somalia</td>\n",
       "      <td>3.54</td>\n",
       "    </tr>\n",
       "    <tr>\n",
       "      <th>121</th>\n",
       "      <td>Central African Republic</td>\n",
       "      <td>3.46</td>\n",
       "    </tr>\n",
       "    <tr>\n",
       "      <th>53</th>\n",
       "      <td>Niger</td>\n",
       "      <td>3.34</td>\n",
       "    </tr>\n",
       "    <tr>\n",
       "      <th>182</th>\n",
       "      <td>Mayotte</td>\n",
       "      <td>3.32</td>\n",
       "    </tr>\n",
       "  </tbody>\n",
       "</table>\n",
       "</div>"
      ],
      "text/plain": [
       "      Country (or dependency)  Yearly Change\n",
       "64                       Chad           5.07\n",
       "122                      Oman           4.60\n",
       "56                      Syria           4.57\n",
       "231                   Tokelau           4.55\n",
       "80                South Sudan           4.01\n",
       "85       United Arab Emirates           3.62\n",
       "67                    Somalia           3.54\n",
       "121  Central African Republic           3.46\n",
       "53                      Niger           3.34\n",
       "182                   Mayotte           3.32"
      ]
     },
     "execution_count": 114,
     "metadata": {},
     "output_type": "execute_result"
    }
   ],
   "source": [
    "# Find the countries with the highest yearly population growth\n",
    "top_growth = df[['Country (or dependency)', 'Yearly Change']].sort_values('Yearly Change', ascending=False).head(10)\n",
    "\n",
    "top_growth"
   ]
  },
  {
   "cell_type": "code",
   "execution_count": 118,
   "id": "83170325",
   "metadata": {},
   "outputs": [
    {
     "data": {
      "image/png": "[encoded data removed]",
      "text/plain": [
       "<Figure size 800x400 with 1 Axes>"
      ]
     },
     "metadata": {},
     "output_type": "display_data"
    }
   ],
   "source": [
    "# Plotting the top growth countries\n",
    "plt.figure(figsize=(8, 4))\n",
    "sns.barplot(x='Yearly Change', y='Country (or dependency)', data=top_growth, palette='viridis')\n",
    "plt.title('Top 10 Countries by Yearly Population Growth')\n",
    "plt.xlabel('Yearly Change (%)')\n",
    "plt.ylabel('Country')\n",
    "plt.show()"
   ]
  },
  {
   "cell_type": "code",
   "execution_count": 116,
   "id": "372a8dc4",
   "metadata": {},
   "outputs": [
    {
     "data": {
      "text/html": [
       "<div>\n",
       "<style scoped>\n",
       "    .dataframe tbody tr th:only-of-type {\n",
       "        vertical-align: middle;\n",
       "    }\n",
       "\n",
       "    .dataframe tbody tr th {\n",
       "        vertical-align: top;\n",
       "    }\n",
       "\n",
       "    .dataframe thead th {\n",
       "        text-align: right;\n",
       "    }\n",
       "</style>\n",
       "<table border=\"1\" class=\"dataframe\">\n",
       "  <thead>\n",
       "    <tr style=\"text-align: right;\">\n",
       "      <th></th>\n",
       "      <th>Country (or dependency)</th>\n",
       "      <th>Yearly Change</th>\n",
       "    </tr>\n",
       "  </thead>\n",
       "  <tbody>\n",
       "    <tr>\n",
       "      <th>219</th>\n",
       "      <td>Saint Martin</td>\n",
       "      <td>-5.04</td>\n",
       "    </tr>\n",
       "    <tr>\n",
       "      <th>222</th>\n",
       "      <td>Cook Islands</td>\n",
       "      <td>-3.47</td>\n",
       "    </tr>\n",
       "    <tr>\n",
       "      <th>216</th>\n",
       "      <td>Marshall Islands</td>\n",
       "      <td>-3.29</td>\n",
       "    </tr>\n",
       "    <tr>\n",
       "      <th>210</th>\n",
       "      <td>Northern Mariana Islands</td>\n",
       "      <td>-1.92</td>\n",
       "    </tr>\n",
       "    <tr>\n",
       "      <th>94</th>\n",
       "      <td>Greece</td>\n",
       "      <td>-1.90</td>\n",
       "    </tr>\n",
       "    <tr>\n",
       "      <th>226</th>\n",
       "      <td>Tuvalu</td>\n",
       "      <td>-1.73</td>\n",
       "    </tr>\n",
       "    <tr>\n",
       "      <th>208</th>\n",
       "      <td>American Samoa</td>\n",
       "      <td>-1.59</td>\n",
       "    </tr>\n",
       "    <tr>\n",
       "      <th>137</th>\n",
       "      <td>Moldova</td>\n",
       "      <td>-1.05</td>\n",
       "    </tr>\n",
       "    <tr>\n",
       "      <th>228</th>\n",
       "      <td>Saint Helena</td>\n",
       "      <td>-0.98</td>\n",
       "    </tr>\n",
       "    <tr>\n",
       "      <th>199</th>\n",
       "      <td>U.S. Virgin Islands</td>\n",
       "      <td>-0.93</td>\n",
       "    </tr>\n",
       "  </tbody>\n",
       "</table>\n",
       "</div>"
      ],
      "text/plain": [
       "      Country (or dependency)  Yearly Change\n",
       "219              Saint Martin          -5.04\n",
       "222              Cook Islands          -3.47\n",
       "216          Marshall Islands          -3.29\n",
       "210  Northern Mariana Islands          -1.92\n",
       "94                     Greece          -1.90\n",
       "226                    Tuvalu          -1.73\n",
       "208            American Samoa          -1.59\n",
       "137                   Moldova          -1.05\n",
       "228              Saint Helena          -0.98\n",
       "199       U.S. Virgin Islands          -0.93"
      ]
     },
     "execution_count": 116,
     "metadata": {},
     "output_type": "execute_result"
    }
   ],
   "source": [
    "# Find the countries with the highest and lowest yearly population growth\n",
    "bottom_growth = df[['Country (or dependency)', 'Yearly Change']].sort_values('Yearly Change').head(10)\n",
    "\n",
    "bottom_growth"
   ]
  },
  {
   "cell_type": "code",
   "execution_count": 120,
   "id": "80e2d877",
   "metadata": {},
   "outputs": [
    {
     "data": {
      "image/png": "[encoded data removed]",
      "text/plain": [
       "<Figure size 800x400 with 1 Axes>"
      ]
     },
     "metadata": {},
     "output_type": "display_data"
    }
   ],
   "source": [
    "# Plotting the bottom growth countries\n",
    "plt.figure(figsize=(8, 4))\n",
    "sns.barplot(x='Yearly Change', y='Country (or dependency)', data=bottom_growth, palette='coolwarm')\n",
    "plt.title('Bottom 10 Countries by Yearly Population Growth')\n",
    "plt.xlabel('Yearly Change (%)')\n",
    "plt.ylabel('Country')\n",
    "plt.show()"
   ]
  },
  {
   "cell_type": "markdown",
   "id": "2ff36469",
   "metadata": {},
   "source": [
    "###  Insights:\n",
    "1. **Global Population Distribution**:\n",
    "   - The histogram of the global population distribution in 2024 highlights that most countries have a relatively smaller population compared to the top 10 most populous nations.\n",
    "   - A few countries dominate the global population figures, while many others contribute to a much smaller fraction of the total global population.\n",
    "\n",
    "2. **Top 10 Most Populous Countries**:\n",
    "   - The analysis reveals that **China** and **India** continue to be the most populous countries, with populations exceeding 1.4 billion each. These two countries account for a significant portion of the global population.\n",
    "   - Other populous countries include the **United States**, **Indonesia**, and **Pakistan**, which all have populations exceeding 200 million.\n",
    "   - There is a noticeable gap in population size between the top few countries and the rest, with many countries having populations in the tens of millions.\n",
    "\n",
    "3. **Population Growth**:\n",
    "   - The **Yearly Change** percentage provides insights into the growth rate of populations across different countries. Countries with high growth rates, like **Nigeria** and **Egypt**, are expected to experience significant increases in population over the next decade, which will impact resource management, infrastructure, and policy planning.\n",
    "\n",
    "\n",
    "### Conclusion:\n",
    "This analysis underscores the continued population growth in the most populous countries, while also highlighting the differences in population size and distribution across the globe. Understanding these trends is essential for policymakers and organizations to plan for future challenges in areas like healthcare, education, urbanization, and resource distribution.\n",
    "\n",
    "### Recommendations for Future Work:\n",
    "- **Further Analysis of Growth Trends**: Examine the factors driving population growth in countries with high yearly changes, and identify potential challenges they may face in the coming years.\n",
    "- **Impact of Urbanization**: Study the relationship between population density and urbanization, and how this affects infrastructure, transportation, and social services.\n",
    "- **Demographic Transitions**: Analyze the aging population in countries with low birth rates, such as Japan and many European nations, and its potential economic implications."
   ]
  },
  {
   "cell_type": "code",
   "execution_count": null,
   "id": "3c169ad5",
   "metadata": {},
   "outputs": [],
   "source": []
  }
 ],
 "metadata": {
  "kernelspec": {
   "display_name": "Python 3 (ipykernel)",
   "language": "python",
   "name": "python3"
  },
  "language_info": {
   "codemirror_mode": {
    "name": "ipython",
    "version": 3
   },
   "file_extension": ".py",
   "mimetype": "text/x-python",
   "name": "python",
   "nbconvert_exporter": "python",
   "pygments_lexer": "ipython3",
   "version": "3.11.5"
  }
 },
 "nbformat": 4,
 "nbformat_minor": 5
}
