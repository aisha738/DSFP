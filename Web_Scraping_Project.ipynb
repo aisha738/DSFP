{
  "nbformat": 4,
  "nbformat_minor": 0,
  "metadata": {
    "colab": {
      "provenance": []
    },
    "kernelspec": {
      "name": "python3",
      "display_name": "Python 3"
    },
    "language_info": {
      "name": "python"
    }
  },
  "cells": [
    {
      "cell_type": "markdown",
      "source": [
        "# Google Play Store Reviews Scraping\n",
        "\n",
        "\n",
        "## Purpose\n",
        "This script automates the process of scraping reviews from a specific app on the Google Play Store, storing them in a MySQL database, performing sentiment analysis, and identifying pros and cons using topic modeling. Finally, the data is exported to a JSON file for further use.\n",
        "\n",
        "### Features:\n",
        "1. Scrape reviews using `google-play-scraper`.\n",
        "2. Store reviews in a MySQL database.\n",
        "3. Perform sentiment analysis using `TextBlob`.\n",
        "4. Identify app pros and cons with topic modeling via `sklearn`.\n",
        "5. Export the data to a JSON file for easy sharing or analysis.\n",
        "\n",
        "### Usage:\n",
        "- Replace `app_id` with the ID of the target app on the Google Play Store.\n",
        "- Ensure MySQL is set up locally, and credentials match the script.\n",
        "- Run the script in an environment with the necessary libraries installed.\n",
        "\n"
      ],
      "metadata": {
        "id": "utlhvryKB6Mt"
      }
    },
    {
      "cell_type": "code",
      "execution_count": 36,
      "metadata": {
        "colab": {
          "base_uri": "https://localhost:8080/"
        },
        "id": "RsoCflXDUbY5",
        "outputId": "2c7ddc63-cb8e-4773-efaa-34476aa2d99d"
      },
      "outputs": [
        {
          "output_type": "stream",
          "name": "stdout",
          "text": [
            "Requirement already satisfied: mysql-connector-python in /usr/local/lib/python3.10/dist-packages (9.1.0)\n"
          ]
        }
      ],
      "source": [
        "# Install and import relevant libraries\n",
        "import requests\n",
        "from bs4 import BeautifulSoup\n",
        "!pip install mysql-connector-python\n",
        "import mysql.connector\n",
        "import json\n",
        "from textblob import TextBlob\n",
        "from nltk.sentiment.vader import SentimentIntensityAnalyzer\n",
        "from sklearn.feature_extraction.text import CountVectorizer\n",
        "from sklearn.decomposition import LatentDirichletAllocation\n",
        "from google_play_scraper import app, reviews as fetch_reviews\n"
      ]
    },
    {
      "cell_type": "code",
      "source": [
        "# Scrape Reviews from Google Play Store\n",
        "def scrape_reviews(app_id):\n",
        "    result, _ = fetch_reviews(\n",
        "        app_id,\n",
        "        lang='en',  # Language\n",
        "        country='us',  # Country\n",
        "        count=10  # Limit to 10 reviews for simplicity\n",
        "    )\n",
        "    return [review['content'] for review in result]"
      ],
      "metadata": {
        "id": "C0R3Xnw37-lg"
      },
      "execution_count": 37,
      "outputs": []
    },
    {
      "cell_type": "code",
      "source": [
        "# Create MySQL Database\n",
        "def create_database():\n",
        "    conn = mysql.connector.connect(\n",
        "        host=\"localhost\",\n",
        "        user=\"root\",\n",
        "        password=\"\"  # Empty password if not set\n",
        "    )\n",
        "    cursor = conn.cursor()\n",
        "    cursor.execute(\"CREATE DATABASE IF NOT EXISTS AppReviews\")\n",
        "    conn.close()"
      ],
      "metadata": {
        "id": "h6mGkzEV-Sy3"
      },
      "execution_count": 39,
      "outputs": []
    },
    {
      "cell_type": "code",
      "source": [
        "# Create Table and Load Data\n",
        "def load_reviews_to_db(reviews):\n",
        "    conn = mysql.connector.connect(\n",
        "        host=\"localhost\",\n",
        "        user=\"root\",\n",
        "        password=\"\",  # Empty password if not set\n",
        "        database=\"AppReviews\"\n",
        "    )\n",
        "    cursor = conn.cursor()\n",
        "\n",
        "    cursor.execute(\"\"\"\n",
        "        CREATE TABLE IF NOT EXISTS Reviews (\n",
        "            id INT AUTO_INCREMENT PRIMARY KEY,\n",
        "            review TEXT\n",
        "        )\n",
        "    \"\"\")\n",
        "\n",
        "    for review in reviews:\n",
        "        cursor.execute(\"INSERT INTO Reviews (review) VALUES (%s)\", (review,))\n",
        "\n",
        "    conn.commit()\n",
        "    conn.close()"
      ],
      "metadata": {
        "id": "muVS2s4a-zex"
      },
      "execution_count": 40,
      "outputs": []
    },
    {
      "cell_type": "code",
      "source": [
        "# Sentiment Analysis\n",
        "def analyze_sentiments(reviews):\n",
        "    sentiments = [(review, TextBlob(review).sentiment.polarity) for review in reviews]\n",
        "    return sentiments"
      ],
      "metadata": {
        "id": "TQZObUMC_AYx"
      },
      "execution_count": 41,
      "outputs": []
    },
    {
      "cell_type": "code",
      "source": [
        "# Identify Pros and Cons using Topic Modeling\n",
        "def identify_topics(reviews):\n",
        "    vectorizer = CountVectorizer(stop_words='english')\n",
        "    X = vectorizer.fit_transform(reviews)\n",
        "\n",
        "    lda = LatentDirichletAllocation(n_components=2, random_state=42)\n",
        "    lda.fit(X)\n",
        "\n",
        "    topics = []\n",
        "    for idx, topic in enumerate(lda.components_):\n",
        "        topics.append([vectorizer.get_feature_names_out()[i] for i in topic.argsort()[-5:]])\n",
        "\n",
        "    return topics"
      ],
      "metadata": {
        "id": "8hbzuM7F_JuT"
      },
      "execution_count": 42,
      "outputs": []
    },
    {
      "cell_type": "code",
      "source": [
        "# Export to JSON\n",
        "def export_to_json():\n",
        "    conn = mysql.connector.connect(\n",
        "        host=\"localhost\",\n",
        "        user=\"root\",\n",
        "        password=\"\",\n",
        "        database=\"reviews_db\"\n",
        "    )\n",
        "    cursor = conn.cursor(dictionary=True)\n",
        "    cursor.execute(\"SELECT * FROM Reviews\")\n",
        "    rows = cursor.fetchall()\n",
        "    conn.close()\n",
        "\n",
        "    with open(\"reviews.json\", \"w\") as f:\n",
        "        json.dump(rows, f, indent=4)"
      ],
      "metadata": {
        "id": "_60Q5Haw_bry"
      },
      "execution_count": 43,
      "outputs": []
    },
    {
      "cell_type": "code",
      "source": [
        "# Scrape Reviews from Google Play Store\n",
        "def scrape_reviews(app_id):\n",
        "    result, _ = fetch_reviews(  # Correctly call fetch_reviews\n",
        "        app_id,\n",
        "        lang='en',  # Language\n",
        "        country='us',  # Country\n",
        "        count=10  # Limit to 10 reviews for simplicity\n",
        "    )\n",
        "    return [review['content'] for review in result]\n",
        "\n"
      ],
      "metadata": {
        "id": "LzANPvbL4Ctz"
      },
      "execution_count": 52,
      "outputs": []
    },
    {
      "cell_type": "code",
      "source": [
        "scrape_reviews('com.mintfintech.app')"
      ],
      "metadata": {
        "colab": {
          "base_uri": "https://localhost:8080/"
        },
        "id": "C-PAGWtMs031",
        "outputId": "4a7430f1-0961-4f55-910d-5bd329843ac2"
      },
      "execution_count": 53,
      "outputs": [
        {
          "output_type": "execute_result",
          "data": {
            "text/plain": [
              "[\"it's a good app, but this is my first time in this website I'm here upload all the service\",\n",
              " 'best',\n",
              " 'good',\n",
              " 'Mintyn is the best',\n",
              " '🥰🎇',\n",
              " 'a very silent 5 star Bank saying and delivering on point and on time',\n",
              " '😚',\n",
              " \"it's owesome\",\n",
              " 'So lovely 🥰🥰🥰🥰',\n",
              " \"My name is odupitan folashade, ma /sir I ave money in the account but I don't know how to withdraw the money is telling me that I should wait till my they contact me,I don't understand the money is from hope\"]"
            ]
          },
          "metadata": {},
          "execution_count": 53
        }
      ]
    },
    {
      "cell_type": "code",
      "source": [],
      "metadata": {
        "id": "Uep3xHPRrd-F"
      },
      "execution_count": null,
      "outputs": []
    }
  ]
}
