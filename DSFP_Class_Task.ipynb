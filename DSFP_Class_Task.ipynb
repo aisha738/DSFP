{
 "cells": [
  {
   "cell_type": "markdown",
   "id": "430baaad",
   "metadata": {},
   "source": [
    "<center>\n",
    "    \n",
    "# Day 1\n",
    "</center>\n",
    "\n",
    "\n",
    "\n",
    "## Introduction to Jupyter Notebook\n",
    "\n",
    "The idea is to get acquainted with the basics of python and jupyter notebook"
   ]
  },
  {
   "cell_type": "markdown",
   "id": "540bc39b",
   "metadata": {},
   "source": [
    "## Numbered List"
   ]
  },
  {
   "cell_type": "markdown",
   "id": "2db38369",
   "metadata": {},
   "source": [
    "1. Aisha\n",
    "2. Maryam\n",
    "3. Zainab"
   ]
  },
  {
   "cell_type": "markdown",
   "id": "b7d80559",
   "metadata": {},
   "source": [
    "## Bulleted List\n",
    "\n",
    "- Orange\n",
    "- Apple\n",
    "- Mango"
   ]
  },
  {
   "cell_type": "code",
   "execution_count": 2,
   "id": "8849ec55",
   "metadata": {},
   "outputs": [
    {
     "data": {
      "text/plain": [
       "'Hello World!'"
      ]
     },
     "execution_count": 2,
     "metadata": {},
     "output_type": "execute_result"
    }
   ],
   "source": [
    "# Write a code cell that prints \"Hello, World!\" and execute the cell\n",
    "\"Hello World!\""
   ]
  },
  {
   "cell_type": "markdown",
   "id": "ca688834",
   "metadata": {},
   "source": [
    "#### Use a markdown cell to add an image or a hyperlink to a website of your choic\n",
    "![Python Logo](https://www.python.org/static/community_logos/python-logo-master-v3-TM.png)"
   ]
  },
  {
   "cell_type": "markdown",
   "id": "f7586c6b",
   "metadata": {},
   "source": [
    "![Scene](https://th.bing.com/th/id/OIP.JFzKF2TvH6_Lle3-eyqOigHaEp?w=3360&h=2108&rs=1&pid=ImgDetMain)"
   ]
  },
  {
   "cell_type": "code",
   "execution_count": 5,
   "id": "a5282627",
   "metadata": {},
   "outputs": [
    {
     "data": {
      "text/plain": [
       "8"
      ]
     },
     "execution_count": 5,
     "metadata": {},
     "output_type": "execute_result"
    }
   ],
   "source": [
    "# Create a notebook cell to perform addition and subtraction of two numbers.\n",
    "## Addition\n",
    "3 + 5\n"
   ]
  },
  {
   "cell_type": "code",
   "execution_count": 82,
   "id": "a24e4d30",
   "metadata": {
    "scrolled": true
   },
   "outputs": [
    {
     "data": {
      "text/plain": [
       "2"
      ]
     },
     "execution_count": 82,
     "metadata": {},
     "output_type": "execute_result"
    }
   ],
   "source": [
    "## Subtraction\n",
    "8 - 6"
   ]
  },
  {
   "cell_type": "code",
   "execution_count": 81,
   "id": "36c4374d",
   "metadata": {
    "scrolled": true
   },
   "outputs": [
    {
     "name": "stdout",
     "output_type": "stream",
     "text": [
      "Help on built-in function print in module builtins:\n",
      "\n",
      "print(*args, sep=' ', end='\\n', file=None, flush=False)\n",
      "    Prints the values to a stream, or to sys.stdout by default.\n",
      "    \n",
      "    sep\n",
      "      string inserted between values, default a space.\n",
      "    end\n",
      "      string appended after the last value, default a newline.\n",
      "    file\n",
      "      a file-like object (stream); defaults to the current sys.stdout.\n",
      "    flush\n",
      "      whether to forcibly flush the stream.\n",
      "\n"
     ]
    }
   ],
   "source": [
    "# Use the help() function in a cell to get documentation for the print() function.\n",
    "help(print)"
   ]
  },
  {
   "cell_type": "markdown",
   "id": "3bc7f75a",
   "metadata": {},
   "source": [
    "- Create a cell with multiple lines of comments explaining your code."
   ]
  },
  {
   "cell_type": "code",
   "execution_count": 83,
   "id": "45d3dae6",
   "metadata": {},
   "outputs": [],
   "source": [
    "# Firstly, I created a markdown to explain what this task is about\n",
    "# Then I created a numbered and bulleted list\n",
    "# Next, I ran a simple python code \"Hello World!\"\n",
    "# Next, I added an online image\n",
    "# I then performed an addition and subtraction operation\n",
    "# I also tried saving the notebook in html format, through 'file' in the top left hand corner\n",
    "# Then I attempted using the help function to get more info about the sum function"
   ]
  },
  {
   "cell_type": "code",
   "execution_count": 84,
   "id": "8e2dadef",
   "metadata": {
    "scrolled": true
   },
   "outputs": [
    {
     "name": "stdout",
     "output_type": "stream",
     "text": [
      "CPU times: total: 0 ns\n",
      "Wall time: 0 ns\n"
     ]
    },
    {
     "data": {
      "text/plain": [
       "10"
      ]
     },
     "execution_count": 84,
     "metadata": {},
     "output_type": "execute_result"
    }
   ],
   "source": [
    "# Use magic commands (%time, %who) in a cell to measure execution time or list variables.\n",
    "# %time: Measures the execution time of a single line of code.\n",
    "%time sum(range(5))\n",
    "# from the output, the code ran in 10 seconds"
   ]
  },
  {
   "cell_type": "code",
   "execution_count": 85,
   "id": "4728d2b3",
   "metadata": {},
   "outputs": [
    {
     "name": "stdout",
     "output_type": "stream",
     "text": [
      "Hello\n",
      "CPU times: total: 0 ns\n",
      "Wall time: 0 ns\n"
     ]
    }
   ],
   "source": [
    "%time print('Hello')"
   ]
  },
  {
   "cell_type": "code",
   "execution_count": 86,
   "id": "38a19fe9",
   "metadata": {},
   "outputs": [
    {
     "name": "stdout",
     "output_type": "stream",
     "text": [
      "544 ns ± 86.5 ns per loop (mean ± std. dev. of 7 runs, 1,000,000 loops each)\n"
     ]
    }
   ],
   "source": [
    "# Additionally, you can use %timeit for more accurate timing (it runs the code multiple times to get a better measurement):\n",
    "\n",
    "%timeit sum(range(5))"
   ]
  },
  {
   "cell_type": "code",
   "execution_count": 87,
   "id": "c0dd722c",
   "metadata": {},
   "outputs": [
    {
     "name": "stdout",
     "output_type": "stream",
     "text": [
      "a\t b\t c\t col_set\t dict_1\t dict_2\t dict_3\t diff\t foods\t \n",
      "fruits\t is_subset\t is_superset\t key\t lang\t lang_dict\t list_1\t list_set\t list_tuple\t \n",
      "my_dict\t my_list\t my_tuple\t num_tuple\t numbers\t set1\t set2\t set3\t set4\t \n",
      "set5\t set7\t set_1\t set_2\t sliced_lang\t squared_dict\t squares\t x\t y\t \n",
      "z\t \n"
     ]
    }
   ],
   "source": [
    "# %who: Lists all the variables in the current namespace.\n",
    "\n",
    "x = 5\n",
    "y = 10\n",
    "z = 11\n",
    "%who\n",
    "\n",
    "# This will list x and y and z, as they are defined in the current environment."
   ]
  },
  {
   "cell_type": "markdown",
   "id": "d8afda6e",
   "metadata": {},
   "source": [
    "- Create a simple table in a markdown cell to display your name, age, and profession.\n",
    "\n",
    "\n",
    "| Name        | Age | Profession      |\n",
    "|-------------|-----|-----------------|\n",
    "| John Doe    | 21  | Software Engineer|\n"
   ]
  },
  {
   "cell_type": "markdown",
   "id": "d78532f8",
   "metadata": {},
   "source": [
    "## Data Types in Python\n",
    "\n",
    "1. Identify the data type of the following values in Python:\n",
    "- 42\n",
    "- 3.14\n",
    "- \"Python\"\n",
    "- [1, 2, 3]\n",
    "- { \"name\": \"John\", \"age\": 30 }"
   ]
  },
  {
   "cell_type": "code",
   "execution_count": 88,
   "id": "1e24b33f",
   "metadata": {
    "scrolled": true
   },
   "outputs": [
    {
     "name": "stdout",
     "output_type": "stream",
     "text": [
      "<class 'int'>\n",
      "<class 'float'>\n",
      "<class 'str'>\n",
      "<class 'list'>\n",
      "<class 'dict'>\n"
     ]
    }
   ],
   "source": [
    "print(type(42))\n",
    "print(type(3.14))\n",
    "print(type(\"Python\"))\n",
    "print(type([1, 2, 3]))\n",
    "print(type({ \"name\": \"John\", \"age\": 30 }))"
   ]
  },
  {
   "cell_type": "code",
   "execution_count": 5,
   "id": "05aebf50",
   "metadata": {},
   "outputs": [
    {
     "name": "stdout",
     "output_type": "stream",
     "text": [
      "42.0\n"
     ]
    },
    {
     "data": {
      "text/plain": [
       "'42'"
      ]
     },
     "execution_count": 5,
     "metadata": {},
     "output_type": "execute_result"
    }
   ],
   "source": [
    "# Convert an integer (e.g., 42) to a float and a string\n",
    "print(float(42))\n",
    "str(42)"
   ]
  },
  {
   "cell_type": "code",
   "execution_count": 7,
   "id": "ad722aa9",
   "metadata": {},
   "outputs": [
    {
     "name": "stdout",
     "output_type": "stream",
     "text": [
      "<class 'list'>\n"
     ]
    }
   ],
   "source": [
    "# Create a list of your five favorite fruits and print its data type\n",
    "fav_fruits = ['Pineapple', 'Orange', 'Apple', 'Mango', 'Banana']\n",
    "print(type(fav_fruits))"
   ]
  },
  {
   "cell_type": "code",
   "execution_count": 90,
   "id": "5a3ad6be",
   "metadata": {},
   "outputs": [
    {
     "data": {
      "text/plain": [
       "True"
      ]
     },
     "execution_count": 90,
     "metadata": {},
     "output_type": "execute_result"
    }
   ],
   "source": [
    "# Write a program to check if a variable is of type str.\n",
    "var1 = \"Hello friend\"\n",
    "isinstance(var1, str)"
   ]
  },
  {
   "cell_type": "code",
   "execution_count": 95,
   "id": "41545880",
   "metadata": {},
   "outputs": [
    {
     "data": {
      "text/plain": [
       "'Data Analytics'"
      ]
     },
     "execution_count": 95,
     "metadata": {},
     "output_type": "execute_result"
    }
   ],
   "source": [
    "# Create a dictionary with three key-value pairs and retrieve the value of a specific key.\n",
    "dictt = {\"name\":\"Anna Wills\", \"track\":\"Data Analytics\", \"level\":2}\n",
    "dictt[\"track\"]"
   ]
  },
  {
   "cell_type": "code",
   "execution_count": 10,
   "id": "9ee86a31",
   "metadata": {},
   "outputs": [
    {
     "data": {
      "text/plain": [
       "'Hello'"
      ]
     },
     "execution_count": 10,
     "metadata": {},
     "output_type": "execute_result"
    }
   ],
   "source": [
    "# Create a tuple with three different data types and access the second element\n",
    "my_tuple = ([20, 23, 33], 'Hello', {\"name\" : \"Aisha\", \"Expertise\" : \"Data Analyst\"})\n",
    "my_tuple[1]"
   ]
  },
  {
   "cell_type": "code",
   "execution_count": 96,
   "id": "da5eede8",
   "metadata": {},
   "outputs": [
    {
     "data": {
      "text/plain": [
       "str"
      ]
     },
     "execution_count": 96,
     "metadata": {},
     "output_type": "execute_result"
    }
   ],
   "source": [
    "# Use the type() function to verify the data type of variables\n",
    "type(var1)"
   ]
  },
  {
   "cell_type": "code",
   "execution_count": 98,
   "id": "97e75ec7",
   "metadata": {},
   "outputs": [
    {
     "name": "stdout",
     "output_type": "stream",
     "text": [
      "3\n"
     ]
    }
   ],
   "source": [
    "# Write a script to perform typecasting of a float to an integer and observe the changes\n",
    "float1 = 3.67\n",
    "int_1 = int(float1)\n",
    "print(int_1)"
   ]
  },
  {
   "cell_type": "code",
   "execution_count": 100,
   "id": "bcd2107a",
   "metadata": {},
   "outputs": [
    {
     "name": "stdout",
     "output_type": "stream",
     "text": [
      "Enter something: 3\n",
      "The input is a number.\n"
     ]
    }
   ],
   "source": [
    "# Create a program that checks whether an input is a number or a string\n",
    "\n",
    "user_input = input(\"Enter something: \")\n",
    "\n",
    "# Check if the input is a number or a string\n",
    "try:\n",
    "    # Try converting the input to a float (covers both integers and decimals)\n",
    "    float_input = float(user_input)\n",
    "    print(\"The input is a number.\")\n",
    "except ValueError:\n",
    "    # If conversion fails, it's a string\n",
    "    print(\"The input is a string.\")"
   ]
  },
  {
   "cell_type": "code",
   "execution_count": 102,
   "id": "17060c7f",
   "metadata": {},
   "outputs": [
    {
     "name": "stdout",
     "output_type": "stream",
     "text": [
      "Length of list: 5\n",
      "Length of tuple: 3\n",
      "Length of dictionary: 3\n"
     ]
    }
   ],
   "source": [
    "# Write a program to calculate the length of a list, tuple, and dictionary\n",
    "# Define a list, tuple, and dictionary\n",
    "my_list = [1, 2, 3, 4, 5]\n",
    "my_tuple = (\"apple\", \"banana\", \"cherry\")\n",
    "my_dict = {\"name\": \"Anna\", \"age\": 25, \"city\": \"New York\"}\n",
    "\n",
    "# Calculate and print the length of each\n",
    "list_length = len(my_list)\n",
    "tuple_length = len(my_tuple)\n",
    "dict_length = len(my_dict)\n",
    "\n",
    "print(f\"Length of list: {list_length}\")\n",
    "print(f\"Length of tuple: {tuple_length}\")\n",
    "print(f\"Length of dictionary: {dict_length}\")\n"
   ]
  },
  {
   "cell_type": "markdown",
   "id": "9e8ef144",
   "metadata": {},
   "source": [
    "## Expressions and Variables"
   ]
  },
  {
   "cell_type": "code",
   "execution_count": 1,
   "id": "eec330ea",
   "metadata": {},
   "outputs": [
    {
     "data": {
      "text/plain": [
       "79"
      ]
     },
     "execution_count": 1,
     "metadata": {},
     "output_type": "execute_result"
    }
   ],
   "source": [
    "# Assign values to three variables (x, y, z) and calculate their sum\n",
    "x = 7\n",
    "y = 40\n",
    "z =  32\n",
    "\n",
    "#Sum variables\n",
    "x + y + z"
   ]
  },
  {
   "cell_type": "code",
   "execution_count": 5,
   "id": "bc9bfabe",
   "metadata": {},
   "outputs": [
    {
     "name": "stdout",
     "output_type": "stream",
     "text": [
      "32\n",
      "7\n",
      "40\n"
     ]
    }
   ],
   "source": [
    "# Write a program to swap the values of two variables\n",
    "x, y, z = y, z, x\n",
    "\n",
    "print(x)\n",
    "print(y)\n",
    "print(z)"
   ]
  },
  {
   "cell_type": "code",
   "execution_count": 6,
   "id": "a6ee6b90",
   "metadata": {},
   "outputs": [
    {
     "name": "stdout",
     "output_type": "stream",
     "text": [
      "My best fruit is Apple\n"
     ]
    }
   ],
   "source": [
    "# Assign a string to a variable and concatenate it with another string.\n",
    "fruit = 'Apple'\n",
    "print(\"My best fruit is \" + fruit)"
   ]
  },
  {
   "cell_type": "code",
   "execution_count": 8,
   "id": "2ea8ca74",
   "metadata": {},
   "outputs": [
    {
     "name": "stdout",
     "output_type": "stream",
     "text": [
      "a =  15\n",
      "b =  10\n",
      "c =  2\n",
      "d =  5.333333333333333\n",
      "e =  3\n"
     ]
    }
   ],
   "source": [
    "# Use compound assignment operators (+=, *=, etc.) with variables to perform operations.\n",
    "a = 10\n",
    "b = 5\n",
    "c = 12\n",
    "d = 16\n",
    "e = 15\n",
    "\n",
    "a += b  # a = a + b\n",
    "print(\"a = \", a)\n",
    "\n",
    "b *= 2  # b = b * 2\n",
    "print(\"b = \", b)\n",
    "\n",
    "c -= 10  # c = c - 10\n",
    "print(\"c = \", c)\n",
    "\n",
    "d /= 3  # d = d / 3\n",
    "print(\"d = \", d)\n",
    "\n",
    "e %= 4  # e = e % 4\n",
    "print(\"e = \", e)"
   ]
  },
  {
   "cell_type": "code",
   "execution_count": 9,
   "id": "df74b034",
   "metadata": {},
   "outputs": [
    {
     "name": "stdout",
     "output_type": "stream",
     "text": [
      "Area of the circle is 78.55\n",
      "The area of the circle is: 78.53981633974483\n"
     ]
    }
   ],
   "source": [
    "# Write an expression that calculates the area of a circle given the radius stored in a variable.\n",
    "\n",
    "pi = 3.142\n",
    "r = 5\n",
    "Area = pi * r**2\n",
    "print(\"Area of the circle is\", Area)\n",
    "\n",
    "# Area of circle using math package\n",
    "import math\n",
    "\n",
    "# Calculate the area\n",
    "area = math.pi * r**2\n",
    "\n",
    "# Print the area\n",
    "print(\"The area of the circle is:\", area)"
   ]
  },
  {
   "cell_type": "code",
   "execution_count": 13,
   "id": "e0d9c782",
   "metadata": {},
   "outputs": [
    {
     "name": "stdout",
     "output_type": "stream",
     "text": [
      "The roots are real and distinct:\n",
      "Root 1: 2.0\n",
      "Root 2: 1.0\n"
     ]
    }
   ],
   "source": [
    "# Use variables to store values for a quadratic equation and compute its roots\n",
    "\n",
    "import math\n",
    "\n",
    "# Coefficients of the quadratic equation\n",
    "a = 1  # Example value for a\n",
    "b = -3  # Example value for b\n",
    "c = 2  # Example value for c\n",
    "\n",
    "# Calculate the discriminant\n",
    "discriminant = b**2 - 4*a*c\n",
    "\n",
    "# Compute the roots based on the discriminant\n",
    "if discriminant > 0:\n",
    "    root1 = (-b + math.sqrt(discriminant)) / (2 * a)\n",
    "    root2 = (-b - math.sqrt(discriminant)) / (2 * a)\n",
    "    print(\"The roots are real and distinct:\")\n",
    "    print(f\"Root 1: {root1}\")\n",
    "    print(f\"Root 2: {root2}\")\n",
    "elif discriminant == 0:\n",
    "    root = -b / (2 * a)\n",
    "    print(\"The roots are real and equal:\")\n",
    "    print(f\"Root: {root}\")\n",
    "else:\n",
    "    real_part = -b / (2 * a)\n",
    "    imaginary_part = math.sqrt(-discriminant) / (2 * a)\n",
    "    print(\"The roots are complex:\")\n",
    "    print(f\"Root 1: {real_part} + {imaginary_part}i\")\n",
    "    print(f\"Root 2: {real_part} - {imaginary_part}i\")\n"
   ]
  },
  {
   "cell_type": "markdown",
   "id": "5c62cb58",
   "metadata": {},
   "source": [
    "### How It Works\n",
    "\n",
    "- Input: Values for a, b and c are predefined (you can replace them with user input if desired).\n",
    "\n",
    "- Discriminant Calculation: The discriminant b^2 - 4ac determines the nature of the roots. \n",
    "  - - Positive: Two distinct real roots.\n",
    "  - - Zero: One real root (double root).\n",
    "  - - Negative: Two complex roots.\n",
    "\n",
    "- Root Calculation:\n",
    "  - - Real roots are calculated directly using the quadratic formula.\n",
    "  - - Complex roots are expressed as a combination of real and imaginary parts."
   ]
  },
  {
   "cell_type": "code",
   "execution_count": 10,
   "id": "cc50ce5b",
   "metadata": {},
   "outputs": [
    {
     "name": "stdout",
     "output_type": "stream",
     "text": [
      "Memory location of x: 140736976427080\n"
     ]
    }
   ],
   "source": [
    "# Assign a value to a variable and print its memory location using the id() function.\n",
    "\n",
    "x = 42\n",
    "\n",
    "# Print the value and its memory location\n",
    "# A memory location is the specific address in a computer's memory where a variable's value is stored.\n",
    "print(\"Memory location of x:\", id(x))"
   ]
  },
  {
   "cell_type": "code",
   "execution_count": 11,
   "id": "dcb282ea",
   "metadata": {},
   "outputs": [
    {
     "name": "stdout",
     "output_type": "stream",
     "text": [
      "Good morning Fatima, how are you doing today?\n",
      "Good morning John, how are you doing today?\n",
      "Good morning John, how are you doing today?\n"
     ]
    }
   ],
   "source": [
    "# Create a variable to store a person's name and use it in a print statement with a greeting.\n",
    "\n",
    "# Using f string\n",
    "first_name = 'Fatima'\n",
    "print(f\"Good morning {first_name}, how are you doing today?\")\n",
    "\n",
    "# Using string concatenation\n",
    "name = \"John\"  \n",
    "print(\"Good morning \" + name + \", how are you doing today?\")\n",
    "\n",
    "# Using % formatting\n",
    "first_name = \"John\"\n",
    "print(\"Good morning %s, how are you doing today?\" % first_name)"
   ]
  },
  {
   "cell_type": "code",
   "execution_count": 12,
   "id": "74ab2469",
   "metadata": {},
   "outputs": [
    {
     "name": "stdout",
     "output_type": "stream",
     "text": [
      "The result of the expression is: False\n"
     ]
    }
   ],
   "source": [
    "# Use an expression with both arithmetic and logical operators, and assign the result to a variable.\n",
    "a = 10\n",
    "b = 5\n",
    "c = 3\n",
    "\n",
    "# Expression using both arithmetic and logical operators\n",
    "result = (a + b > c) and (b * c < a)\n",
    "\n",
    "# Print the result\n",
    "print(\"The result of the expression is:\", result)"
   ]
  },
  {
   "cell_type": "markdown",
   "id": "8d4c1706",
   "metadata": {},
   "source": [
    "#### Using and (both conditions must be true):\n",
    "- True and True → True\n",
    "- True and False → False\n",
    "- False and True → False\n",
    "- False and False → False\n",
    "\n",
    "#### Using or (at least one condition must be true):\n",
    "-True or True → True\n",
    "- True or False → True\n",
    "- False or True → True\n",
    "- False or False → False\n",
    "\n",
    "#### Using not (negates the value):\n",
    "- not True → False\n",
    "- not False → True"
   ]
  },
  {
   "cell_type": "code",
   "execution_count": 14,
   "id": "f68627fc",
   "metadata": {},
   "outputs": [
    {
     "name": "stdout",
     "output_type": "stream",
     "text": [
      "The value of (3 + 4)^2 is: 49\n",
      "Verification using expanded form: 49\n"
     ]
    }
   ],
   "source": [
    "# Write a program to solve (a + b)^2 using variables a and b\n",
    "\n",
    "a = 3  # Example value for a\n",
    "b = 4  # Example value for b\n",
    "\n",
    "result = (a + b)**2\n",
    "\n",
    "# Display the result\n",
    "print(f\"The value of ({a} + {b})^2 is: {result}\")\n",
    "\n",
    "# Expanded form for verification\n",
    "expanded = a**2 + 2*a*b + b**2\n",
    "print(f\"Verification using expanded form: {expanded}\")"
   ]
  },
  {
   "cell_type": "markdown",
   "id": "902829e0",
   "metadata": {},
   "source": [
    "### String Operations"
   ]
  },
  {
   "cell_type": "code",
   "execution_count": 15,
   "id": "5f49b89f",
   "metadata": {},
   "outputs": [
    {
     "name": "stdout",
     "output_type": "stream",
     "text": [
      "Hello Friend\n"
     ]
    }
   ],
   "source": [
    "# Write a Python program to concatenate two strings using the + operator.\n",
    "print(\"Hello\" + \" Friend\")"
   ]
  },
  {
   "cell_type": "code",
   "execution_count": 26,
   "id": "da18ca2c",
   "metadata": {},
   "outputs": [
    {
     "data": {
      "text/plain": [
       "6"
      ]
     },
     "execution_count": 26,
     "metadata": {},
     "output_type": "execute_result"
    }
   ],
   "source": [
    "# Find the length of a given string using the len() function\n",
    "name = \"Maryam\"\n",
    "len(name)"
   ]
  },
  {
   "cell_type": "code",
   "execution_count": 27,
   "id": "3f0b0e02",
   "metadata": {},
   "outputs": [
    {
     "data": {
      "text/plain": [
       "'Namibi'"
      ]
     },
     "execution_count": 27,
     "metadata": {},
     "output_type": "execute_result"
    }
   ],
   "source": [
    "# Extract the first five characters of a string using slicing.\n",
    "country = \"Namibia\"\n",
    "country[:6]"
   ]
  },
  {
   "cell_type": "code",
   "execution_count": 30,
   "id": "85d01ad0",
   "metadata": {},
   "outputs": [
    {
     "name": "stdout",
     "output_type": "stream",
     "text": [
      "NAMIBIA\n",
      "namibia\n"
     ]
    }
   ],
   "source": [
    "# Convert a string to uppercase and lowercase using string methods.\n",
    "print(country.upper())\n",
    "print(country.lower())"
   ]
  },
  {
   "cell_type": "code",
   "execution_count": 16,
   "id": "2826fa8c",
   "metadata": {},
   "outputs": [
    {
     "data": {
      "text/plain": [
       "'Hello, students, welcome to day 1 of your chemistry class. Biology is an interesting field. Learning chemistry is fun'"
      ]
     },
     "execution_count": 16,
     "metadata": {},
     "output_type": "execute_result"
    }
   ],
   "source": [
    "# Write a script to replace all occurrences of a word in a string with another word.\n",
    "welcome = \"Hello, students, welcome to day 1 of your biology class. Biology is an interesting field. Learning biology is fun\"\n",
    "welcome.replace('biology','chemistry')"
   ]
  },
  {
   "cell_type": "code",
   "execution_count": 17,
   "id": "24d3042d",
   "metadata": {},
   "outputs": [
    {
     "data": {
      "text/plain": [
       "True"
      ]
     },
     "execution_count": 17,
     "metadata": {},
     "output_type": "execute_result"
    }
   ],
   "source": [
    "# Check if a given substring exists in a string using the in operator.\n",
    "\"Hello\" in welcome"
   ]
  },
  {
   "cell_type": "code",
   "execution_count": 18,
   "id": "d6eafc9c",
   "metadata": {},
   "outputs": [
    {
     "name": "stdout",
     "output_type": "stream",
     "text": [
      "torrap\n"
     ]
    }
   ],
   "source": [
    "# Reverse a string using slicing and print the result\n",
    "pet_name = \"parrot\"\n",
    "rev_pet_name = pet_name[::-1]\n",
    "print(rev_pet_name)"
   ]
  },
  {
   "cell_type": "code",
   "execution_count": 20,
   "id": "539d055a",
   "metadata": {},
   "outputs": [
    {
     "name": "stdout",
     "output_type": "stream",
     "text": [
      "['Good', 'morning', 'sir']\n",
      "Good morning sir\n"
     ]
    }
   ],
   "source": [
    "# Split a string into a list of words and join it back into a single string.\n",
    "Greeting = \"Good morning sir\"\n",
    "\n",
    "# splitting\n",
    "split_str = Greeting.split()\n",
    "print(split_str)\n",
    "\n",
    "# Joining\n",
    "join_str = \" \".join(split_str)\n",
    "print(join_str)"
   ]
  },
  {
   "cell_type": "code",
   "execution_count": 22,
   "id": "cf591e30",
   "metadata": {},
   "outputs": [
    {
     "data": {
      "text/plain": [
       "2"
      ]
     },
     "execution_count": 22,
     "metadata": {},
     "output_type": "execute_result"
    }
   ],
   "source": [
    "# Count the number of occurrences of a specific character in a string.\n",
    "word = \"Committee\"\n",
    "word.count(\"m\")"
   ]
  },
  {
   "cell_type": "code",
   "execution_count": 26,
   "id": "3972eec8",
   "metadata": {},
   "outputs": [
    {
     "name": "stdout",
     "output_type": "stream",
     "text": [
      "Hello Asad, have you submitted your task?\n",
      "Hello Asad, have you submitted your task?\n"
     ]
    }
   ],
   "source": [
    "# Write a program that formats a string using f-strings or the .format() method\n",
    "\n",
    "#f-string\n",
    "first_name = \"Asad\"\n",
    "heading1 = f\"Hello {first_name}, have you submitted your task?\"\n",
    "print(heading1)\n",
    "\n",
    "# .format()\n",
    "heading2 = \"Hello {}, have you submitted your task?\".format(first_name)\n",
    "print(heading2)"
   ]
  },
  {
   "cell_type": "markdown",
   "id": "de18f0c8",
   "metadata": {},
   "source": [
    "<center>\n",
    "    \n",
    "## Day 2\n",
    "    \n",
    "</center>\n",
    "\n",
    "### Exercise 1"
   ]
  },
  {
   "cell_type": "code",
   "execution_count": 38,
   "id": "4686e8dc",
   "metadata": {},
   "outputs": [
    {
     "data": {
      "text/plain": [
       "'Hello World'"
      ]
     },
     "execution_count": 38,
     "metadata": {},
     "output_type": "execute_result"
    }
   ],
   "source": [
    "# Write a program to concatenate \"Hello\" and \"Python\" with a space between them\n",
    "\"Hello\" + \" World\""
   ]
  },
  {
   "cell_type": "code",
   "execution_count": 39,
   "id": "5090297c",
   "metadata": {},
   "outputs": [
    {
     "name": "stdout",
     "output_type": "stream",
     "text": [
      "24\n"
     ]
    }
   ],
   "source": [
    "# Calculate and print the length of \"Learn to code in Python!\"\n",
    "print(len(\"Learn to code in Python!\"))"
   ]
  },
  {
   "cell_type": "code",
   "execution_count": 40,
   "id": "4877f0d5",
   "metadata": {},
   "outputs": [
    {
     "name": "stdout",
     "output_type": "stream",
     "text": [
      "Program\n"
     ]
    }
   ],
   "source": [
    "# From the string \"Python Programming\", extract the substring \"Program\"\n",
    "text = \"Python Programming\"\n",
    "\n",
    "# Extract the substring \"Program\"\n",
    "substring = text[7:14]\n",
    "\n",
    "print(substring)"
   ]
  },
  {
   "cell_type": "code",
   "execution_count": 41,
   "id": "af593710",
   "metadata": {},
   "outputs": [
    {
     "name": "stdout",
     "output_type": "stream",
     "text": [
      "PYTHON ROCKS!\n",
      "python rocks!\n",
      "Python Rocks!\n"
     ]
    }
   ],
   "source": [
    "# Convert \"Python Rocks!\" to uppercase, lowercase, and title case.\n",
    "a = \"Python Rocks!\"\n",
    "print(a.upper())\n",
    "print(a.lower())\n",
    "print(a.title())"
   ]
  },
  {
   "cell_type": "code",
   "execution_count": 42,
   "id": "738b0e5d",
   "metadata": {},
   "outputs": [
    {
     "data": {
      "text/plain": [
       "'Python is not good'"
      ]
     },
     "execution_count": 42,
     "metadata": {},
     "output_type": "execute_result"
    }
   ],
   "source": [
    "# Replace \"bad\" with \"good\" in the string \"Python is not bad\".\n",
    "statement = \"Python is not bad\"\n",
    "statement.replace(\"bad\", \"good\")"
   ]
  },
  {
   "cell_type": "code",
   "execution_count": 44,
   "id": "b92906d8",
   "metadata": {},
   "outputs": [
    {
     "data": {
      "text/plain": [
       "False"
      ]
     },
     "execution_count": 44,
     "metadata": {},
     "output_type": "execute_result"
    }
   ],
   "source": [
    "# Check if \"code\" exists in \"Coding is fun with Python\"\n",
    "\"code\" in \"Coding is fun with Python\""
   ]
  },
  {
   "cell_type": "code",
   "execution_count": 52,
   "id": "8cf21c9c",
   "metadata": {},
   "outputs": [
    {
     "name": "stdout",
     "output_type": "stream",
     "text": [
      "nohtyP\n"
     ]
    }
   ],
   "source": [
    "# Reverse \"Python\" and print it.\n",
    "x = \"Python\"\n",
    "print(x[::-1])"
   ]
  },
  {
   "cell_type": "code",
   "execution_count": 55,
   "id": "fbf86b2f",
   "metadata": {},
   "outputs": [
    {
     "name": "stdout",
     "output_type": "stream",
     "text": [
      "['Learn', 'Python', 'the', 'easy', 'way']\n",
      "Learn-Python-the-easy-way\n"
     ]
    }
   ],
   "source": [
    "# Split \"Learn Python the easy way\" into a list of words, then join it back into a single string separated by hyphens (-).\n",
    "y = \"Learn Python the easy way\"\n",
    "\n",
    "# Split into a list of words\n",
    "word_list = y.split()\n",
    "\n",
    "# Join the list back into a single string with hyphens\n",
    "hyphenated_string = '-'.join(word_list)\n",
    "\n",
    "print(word_list)\n",
    "print(hyphenated_string)\n"
   ]
  },
  {
   "cell_type": "code",
   "execution_count": 57,
   "id": "380eaf0e",
   "metadata": {},
   "outputs": [
    {
     "name": "stdout",
     "output_type": "stream",
     "text": [
      "6\n"
     ]
    }
   ],
   "source": [
    "# Count how many times the letter 'a' appears in \"banana apple avocado\"\n",
    "text = \"banana apple avocado\"\n",
    "\n",
    "# Count occurrences of 'a'\n",
    "count_a = text.count('a')\n",
    "\n",
    "print(count_a)"
   ]
  },
  {
   "cell_type": "code",
   "execution_count": 60,
   "id": "142ef3c2",
   "metadata": {},
   "outputs": [
    {
     "name": "stdout",
     "output_type": "stream",
     "text": [
      "I scored 95 in Python, which is awesome!\n"
     ]
    }
   ],
   "source": [
    "# Use f-strings to format and print \"I scored 95 in Python, which is awesome!\"\n",
    "note = \"I scored 95 in Python, which is awesome!\"\n",
    "print(f\"{note}\")"
   ]
  },
  {
   "cell_type": "markdown",
   "id": "1e32e01f",
   "metadata": {},
   "source": [
    "### Exercise 2"
   ]
  },
  {
   "cell_type": "code",
   "execution_count": 1,
   "id": "59e5e51b",
   "metadata": {},
   "outputs": [
    {
     "name": "stdout",
     "output_type": "stream",
     "text": [
      "apple elderberry\n"
     ]
    }
   ],
   "source": [
    "# Create a list of five fruits: [\"apple\", \"banana\", \"cherry\", \"date\", \"elderberry\"]. Print the first and last items\n",
    "fruits = [\"apple\", \"banana\", \"cherry\", \"date\", \"elderberry\"]\n",
    "print(fruits[0], fruits[-1])"
   ]
  },
  {
   "cell_type": "code",
   "execution_count": 3,
   "id": "b0772c9b",
   "metadata": {},
   "outputs": [
    {
     "name": "stdout",
     "output_type": "stream",
     "text": [
      "['apple', 'blueberry', 'date', 'elderberry', 'fig']\n"
     ]
    }
   ],
   "source": [
    "#  Modify List: Add \"fig\" to the list above, remove \"cherry\", and replace \"banana\" with \"blueberry\"\n",
    "fruits = [\"apple\", \"banana\", \"cherry\", \"date\", \"elderberry\"]\n",
    "\n",
    "# Add \"fig\" to the list\n",
    "fruits.append(\"fig\",)\n",
    "\n",
    "# Remove \"cherry\" from the list\n",
    "fruits.remove(\"cherry\")\n",
    "\n",
    "# Replace \"banana\" with \"blueberry\"\n",
    "fruits[fruits.index(\"banana\")] = \"blueberry\"\n",
    "\n",
    "print(fruits)\n",
    "\n",
    "# list.append() takes exactly one argument"
   ]
  },
  {
   "cell_type": "code",
   "execution_count": 4,
   "id": "77c61ca8",
   "metadata": {},
   "outputs": [
    {
     "name": "stdout",
     "output_type": "stream",
     "text": [
      "Sorted and reversed list: ['fig', 'elderberry', 'date', 'blueberry', 'apple']\n"
     ]
    }
   ],
   "source": [
    "# Sort the list in ascending order\n",
    "fruits.sort()\n",
    "\n",
    "# Reverse the sorted list\n",
    "fruits.reverse()\n",
    "\n",
    "# Display the sorted and reversed list\n",
    "print(\"Sorted and reversed list:\", fruits)"
   ]
  },
  {
   "cell_type": "code",
   "execution_count": 10,
   "id": "52f390ad",
   "metadata": {},
   "outputs": [
    {
     "name": "stdout",
     "output_type": "stream",
     "text": [
      "['Python', 'Java', 'C++']\n"
     ]
    }
   ],
   "source": [
    "# Slice List: From the list [\"Python\", \"Java\", \"C++\", \"Ruby\", \"Go\"], extract the first three languages.\n",
    "lang = [\"Python\", \"Java\", \"C++\", \"Ruby\", \"Go\"]\n",
    "sliced_lang = lang[:3]\n",
    "print(sliced_lang)"
   ]
  },
  {
   "cell_type": "code",
   "execution_count": 11,
   "id": "f3e12bad",
   "metadata": {},
   "outputs": [
    {
     "data": {
      "text/plain": [
       "150"
      ]
     },
     "execution_count": 11,
     "metadata": {},
     "output_type": "execute_result"
    }
   ],
   "source": [
    "# Sum of List: Create a list of numbers [10, 20, 30, 40, 50] and calculate their sum.\n",
    "numbers = [10, 20, 30, 40, 50]\n",
    "sum(numbers)"
   ]
  },
  {
   "cell_type": "code",
   "execution_count": 12,
   "id": "38ae8f00",
   "metadata": {},
   "outputs": [
    {
     "name": "stdout",
     "output_type": "stream",
     "text": [
      "9\n",
      "1\n"
     ]
    }
   ],
   "source": [
    "# Tuple Creation: Create a tuple of five numbers and print the maximum and minimum values.\n",
    "my_tuple = (1, 3, 5, 7, 9)\n",
    "print(max(my_tuple))\n",
    "print(min(my_tuple))"
   ]
  },
  {
   "cell_type": "code",
   "execution_count": 14,
   "id": "c1d8bec0",
   "metadata": {},
   "outputs": [
    {
     "name": "stdout",
     "output_type": "stream",
     "text": [
      "('red', 'green', 'blue')\n"
     ]
    }
   ],
   "source": [
    "# Convert List to Tuple: Convert the list [\"red\", \"green\", \"blue\"] into a tuple.\n",
    "my_list = [\"red\", \"green\", \"blue\"]\n",
    "list_tuple = tuple(my_list)\n",
    "print(list_tuple)"
   ]
  },
  {
   "cell_type": "code",
   "execution_count": 15,
   "id": "3f0bf002",
   "metadata": {},
   "outputs": [
    {
     "name": "stdout",
     "output_type": "stream",
     "text": [
      "a: 1\n",
      "b: 2\n",
      "c: 3\n"
     ]
    }
   ],
   "source": [
    "# Unpack Tuple: Unpack the tuple (1, 2, 3) into three variables and print them.\n",
    "num_tuple = (1, 2, 3)\n",
    "\n",
    "# Unpack the tuple into three variables\n",
    "a, b, c = num_tuple\n",
    "\n",
    "# Print the variables\n",
    "print(\"a:\", a)\n",
    "print(\"b:\", b)\n",
    "print(\"c:\", c)"
   ]
  },
  {
   "cell_type": "code",
   "execution_count": 16,
   "id": "8bd7bbec",
   "metadata": {},
   "outputs": [
    {
     "name": "stdout",
     "output_type": "stream",
     "text": [
      "[1, 4, 9, 16, 25, 36, 49, 64, 81, 100]\n"
     ]
    }
   ],
   "source": [
    "# List Comprehension: Create a new list with the squares of numbers from 1 to 10.\n",
    "# Create a list with the squares of numbers from 1 to 10\n",
    "squares = [x**2 for x in range(1, 11)]\n",
    "\n",
    "# Print the resulting list\n",
    "print(squares)"
   ]
  },
  {
   "cell_type": "code",
   "execution_count": 20,
   "id": "4900ff71",
   "metadata": {},
   "outputs": [
    {
     "name": "stdout",
     "output_type": "stream",
     "text": [
      "['Python', 'Java', 'C++', 'Ruby', 'Go']\n",
      "2\n"
     ]
    }
   ],
   "source": [
    "# Find Index: Find the index of \"C++\" in the list [\"Python\", \"Java\", \"C++\", \"Ruby\", \"Go\"].\n",
    "print(lang)\n",
    "print(lang.index(\"C++\"))"
   ]
  },
  {
   "cell_type": "markdown",
   "id": "13aaac23",
   "metadata": {},
   "source": [
    "### Exercise 3"
   ]
  },
  {
   "cell_type": "code",
   "execution_count": 21,
   "id": "3337925e",
   "metadata": {},
   "outputs": [],
   "source": [
    "#Create Dictionary: Create a dictionary with three key-value pairs: {\"name\": \"Alice\", \"age\": 25, \"city\": \"New York\"}.\n",
    "my_dict = {\"name\": \"Amina\", \"age\": 23, \"city\": \"Los Angeles\"}"
   ]
  },
  {
   "cell_type": "code",
   "execution_count": 22,
   "id": "ed1b81c0",
   "metadata": {},
   "outputs": [
    {
     "name": "stdout",
     "output_type": "stream",
     "text": [
      "Los Angeles\n"
     ]
    }
   ],
   "source": [
    "# Access Value: Access and print the value of \"city\" in the dictionary above\n",
    "print(my_dict[\"city\"])"
   ]
  },
  {
   "cell_type": "code",
   "execution_count": 34,
   "id": "b92ce96d",
   "metadata": {},
   "outputs": [
    {
     "name": "stdout",
     "output_type": "stream",
     "text": [
      "{'name': 'Amina', 'age': 30, 'country': 'USA', 'city': 'Los Angeles'}\n"
     ]
    }
   ],
   "source": [
    "# Update Value: Update the \"age\" to 30 and print the dictionary.\n",
    "my_dict[\"age\"] = 30\n",
    "print(my_dict)"
   ]
  },
  {
   "cell_type": "code",
   "execution_count": 26,
   "id": "0d31627e",
   "metadata": {},
   "outputs": [
    {
     "name": "stdout",
     "output_type": "stream",
     "text": [
      "{'name': 'Amina', 'age': 30, 'city': 'Los Angeles', 'country': 'USA'}\n"
     ]
    }
   ],
   "source": [
    "# Add Key-Value Pair: Add a new key \"country\" with the value \"USA\" to the dictionary.\n",
    "my_dict[\"country\"] = \"USA\"\n",
    "print(my_dict)"
   ]
  },
  {
   "cell_type": "code",
   "execution_count": 35,
   "id": "b2429346",
   "metadata": {
    "scrolled": true
   },
   "outputs": [
    {
     "name": "stdout",
     "output_type": "stream",
     "text": [
      "{'name': 'Amina', 'age': 30, 'country': 'USA'}\n"
     ]
    }
   ],
   "source": [
    "# Delete Key: Remove the \"city\" key from the dictionary and print the result.\n",
    "del my_dict[\"city\"]\n",
    "print(my_dict)"
   ]
  },
  {
   "cell_type": "code",
   "execution_count": 33,
   "id": "5393ea26",
   "metadata": {},
   "outputs": [
    {
     "name": "stdout",
     "output_type": "stream",
     "text": [
      "{'name': 'Amina', 'age': 30, 'country': 'USA'}\n"
     ]
    }
   ],
   "source": [
    "print(my_dict)"
   ]
  },
  {
   "cell_type": "code",
   "execution_count": 36,
   "id": "bf465361",
   "metadata": {},
   "outputs": [
    {
     "data": {
      "text/plain": [
       "True"
      ]
     },
     "execution_count": 36,
     "metadata": {},
     "output_type": "execute_result"
    }
   ],
   "source": [
    "# Check Key Existence: Check if the key \"name\" exists in the dictionary.\n",
    "\"name\" in my_dict"
   ]
  },
  {
   "cell_type": "code",
   "execution_count": 40,
   "id": "8a4355ec",
   "metadata": {
    "scrolled": true
   },
   "outputs": [
    {
     "name": "stdout",
     "output_type": "stream",
     "text": [
      "Key: name, Value: Amina\n",
      "Key: age, Value: 30\n",
      "Key: country, Value: USA\n"
     ]
    }
   ],
   "source": [
    "# Iterate Dictionary: Iterate over the dictionary and print each key and its value.\n",
    "for key in my_dict:\n",
    "    print(f\"Key: {key}, Value: {my_dict[key]}\")"
   ]
  },
  {
   "cell_type": "code",
   "execution_count": 47,
   "id": "181e0a00",
   "metadata": {},
   "outputs": [
    {
     "name": "stdout",
     "output_type": "stream",
     "text": [
      "{'x': 1, 'y': 3, 'z': 4}\n"
     ]
    }
   ],
   "source": [
    "# Merge Dictionaries: Merge {\"x\": 1, \"y\": 2} with {\"y\": 3, \"z\": 4} and print the result\n",
    "# Method 1\n",
    "dict_1 = {\"x\": 1, \"y\": 2}\n",
    "dict_2 = {\"y\": 3, \"z\": 4}\n",
    "\n",
    "dict_1.update(dict_2)\n",
    "print(dict_1) "
   ]
  },
  {
   "cell_type": "code",
   "execution_count": 49,
   "id": "5e922708",
   "metadata": {},
   "outputs": [
    {
     "name": "stdout",
     "output_type": "stream",
     "text": [
      "{'x': 1, 'y': 3, 'z': 4}\n"
     ]
    }
   ],
   "source": [
    "# Method 2\n",
    "dict_1 = {\"x\": 1, \"y\": 2}\n",
    "dict_2 = {\"y\": 3, \"z\": 4}\n",
    "\n",
    "dict_3 = dict_1 | dict_2 \n",
    "print(dict_3)"
   ]
  },
  {
   "cell_type": "code",
   "execution_count": 50,
   "id": "143f5208",
   "metadata": {},
   "outputs": [
    {
     "name": "stdout",
     "output_type": "stream",
     "text": [
      "{'x': 1, 'y': 3, 'z': 4}\n"
     ]
    }
   ],
   "source": [
    "# Method 3 \n",
    "dict_1 = {\"x\": 1, \"y\": 2}\n",
    "dict_2 = {\"y\": 3, \"z\": 4}\n",
    "\n",
    "dict_3 = {**dict_1, **dict_2}  \n",
    "print(dict_3)"
   ]
  },
  {
   "cell_type": "code",
   "execution_count": 53,
   "id": "5dd2467d",
   "metadata": {},
   "outputs": [
    {
     "name": "stdout",
     "output_type": "stream",
     "text": [
      "dict_keys(['Python', 'Java', 'C++'])\n",
      "dict_values([1991, 1995, 1985])\n"
     ]
    }
   ],
   "source": [
    "# Dictionary Keys and Values: Print all the keys and values from the dictionary {\"Python\": 1991, \"Java\": 1995, \"C++\": 1985}\n",
    "lang_dict = {\"Python\": 1991, \"Java\": 1995, \"C++\": 1985}\n",
    "print(lang_dict.keys())\n",
    "print(lang_dict.values())"
   ]
  },
  {
   "cell_type": "code",
   "execution_count": 54,
   "id": "7f8aa461",
   "metadata": {},
   "outputs": [
    {
     "name": "stdout",
     "output_type": "stream",
     "text": [
      "{1: 1, 2: 4, 3: 9, 4: 16, 5: 25}\n"
     ]
    }
   ],
   "source": [
    "# Dictionary Comprehension: Create a dictionary where keys are numbers from 1 to 5 and values are their squares\n",
    "squared_dict = {x: x**2 for x in range(1, 6)}\n",
    "print(squared_dict)"
   ]
  },
  {
   "cell_type": "markdown",
   "id": "0880a761",
   "metadata": {},
   "source": [
    "### Exercise 4"
   ]
  },
  {
   "cell_type": "code",
   "execution_count": 66,
   "id": "fd303e8e",
   "metadata": {},
   "outputs": [
    {
     "name": "stdout",
     "output_type": "stream",
     "text": [
      "{'Brown', 'Green', 'Pink'}\n"
     ]
    }
   ],
   "source": [
    "# Create and Print Set: Create a set of three colors: {\"red\", \"green\", \"blue\"}. Print the set.\n",
    "col_set = {\"Pink\", \"Green\", \"Brown\"}\n",
    "print(col_set)"
   ]
  },
  {
   "cell_type": "code",
   "execution_count": 67,
   "id": "bdc0f7c9",
   "metadata": {},
   "outputs": [
    {
     "name": "stdout",
     "output_type": "stream",
     "text": [
      "{'Brown', 'Green', 'Pink', 'Yellow'}\n"
     ]
    }
   ],
   "source": [
    "# Add Element: Add \"yellow\" to the set and print the result.\n",
    "col_set.add(\"Yellow\")\n",
    "print(col_set)"
   ]
  },
  {
   "cell_type": "code",
   "execution_count": 68,
   "id": "87dd8f62",
   "metadata": {},
   "outputs": [
    {
     "name": "stdout",
     "output_type": "stream",
     "text": [
      "{'Brown', 'Pink', 'Yellow'}\n"
     ]
    }
   ],
   "source": [
    "# Remove Element: Remove \"green\" from the set\n",
    "col_set.remove(\"Green\")\n",
    "print(col_set)"
   ]
  },
  {
   "cell_type": "code",
   "execution_count": 69,
   "id": "c127fa6f",
   "metadata": {},
   "outputs": [
    {
     "data": {
      "text/plain": [
       "False"
      ]
     },
     "execution_count": 69,
     "metadata": {},
     "output_type": "execute_result"
    }
   ],
   "source": [
    "# Check Membership: Check if \"blue\" exists in the set.\n",
    "\"blue\" in col_set"
   ]
  },
  {
   "cell_type": "code",
   "execution_count": 71,
   "id": "7d2717d7",
   "metadata": {},
   "outputs": [
    {
     "name": "stdout",
     "output_type": "stream",
     "text": [
      "{1, 2, 3, 4, 5}\n"
     ]
    }
   ],
   "source": [
    "# Union of Sets: Find the union of {1, 2, 3} and {3, 4, 5}\n",
    "set1 = {1, 2, 3}\n",
    "set2 = {3, 4, 5}\n",
    "set3 = set1.union(set2)\n",
    "print(set3)"
   ]
  },
  {
   "cell_type": "code",
   "execution_count": 73,
   "id": "98061f4f",
   "metadata": {},
   "outputs": [
    {
     "name": "stdout",
     "output_type": "stream",
     "text": [
      "{3}\n"
     ]
    }
   ],
   "source": [
    "# Intersection of Sets: Find the intersection of {1, 2, 3} and {3, 4, 5}.\n",
    "set4 = set1.intersection(set2)\n",
    "print(set4)"
   ]
  },
  {
   "cell_type": "code",
   "execution_count": 76,
   "id": "596bc41f",
   "metadata": {},
   "outputs": [
    {
     "name": "stdout",
     "output_type": "stream",
     "text": [
      "{4, 5}\n",
      "{1, 2}\n"
     ]
    }
   ],
   "source": [
    "# Difference of Sets: Find the difference between {1, 2, 3} and {3, 4, 5}\n",
    "# Method 1\n",
    "set5 = set2 - set1\n",
    "print(set5)\n",
    "\n",
    "# Method 2\n",
    "diff = set1.difference(set2)\n",
    "print(diff)"
   ]
  },
  {
   "cell_type": "code",
   "execution_count": 77,
   "id": "7ea38bb6",
   "metadata": {},
   "outputs": [
    {
     "data": {
      "text/plain": [
       "5"
      ]
     },
     "execution_count": 77,
     "metadata": {},
     "output_type": "execute_result"
    }
   ],
   "source": [
    "# Set Length: Find the length of the set {1, 2, 3, 4, 5}.\n",
    "set7 = {1, 2, 3, 4, 5}\n",
    "len(set7)"
   ]
  },
  {
   "cell_type": "code",
   "execution_count": 79,
   "id": "945cb30b",
   "metadata": {},
   "outputs": [
    {
     "name": "stdout",
     "output_type": "stream",
     "text": [
      "True\n",
      "True\n"
     ]
    }
   ],
   "source": [
    "# Set Operations: Check if {1, 2} is a subset of {1, 2, 3, 4} and {1, 2, 3, 4} is a superset of {1, 2}\n",
    "set_1 = {1, 2}\n",
    "set_2 = {1, 2, 3, 4}\n",
    "\n",
    "# Check if set_1 is a subset of set_2\n",
    "is_subset = set_1.issubset(set_2)\n",
    "\n",
    "# Check if set2 is a superset of set1\n",
    "is_superset = set_2.issuperset(set_1)\n",
    "\n",
    "# Print the results\n",
    "print(is_subset)\n",
    "print(is_superset)"
   ]
  },
  {
   "cell_type": "code",
   "execution_count": 80,
   "id": "01c4a879",
   "metadata": {},
   "outputs": [
    {
     "name": "stdout",
     "output_type": "stream",
     "text": [
      "{1, 2, 3, 4}\n"
     ]
    }
   ],
   "source": [
    "# Convert List to Set: Convert the list [1, 2, 2, 3, 4, 4] into a set to remove duplicates and print the set.\n",
    "list_1 = [1, 2, 2, 3, 4, 4]\n",
    "list_set = set(list_1)\n",
    "print(list_set)"
   ]
  }
 ],
 "metadata": {
  "kernelspec": {
   "display_name": "Python 3 (ipykernel)",
   "language": "python",
   "name": "python3"
  },
  "language_info": {
   "codemirror_mode": {
    "name": "ipython",
    "version": 3
   },
   "file_extension": ".py",
   "mimetype": "text/x-python",
   "name": "python",
   "nbconvert_exporter": "python",
   "pygments_lexer": "ipython3",
   "version": "3.11.5"
  }
 },
 "nbformat": 4,
 "nbformat_minor": 5
}
